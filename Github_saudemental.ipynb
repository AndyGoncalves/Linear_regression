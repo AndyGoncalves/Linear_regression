{
  "nbformat": 4,
  "nbformat_minor": 0,
  "metadata": {
    "colab": {
      "provenance": [],
      "toc_visible": true,
      "authorship_tag": "ABX9TyO6EGZBIaNXYi0fNVpHYKQH",
      "include_colab_link": true
    },
    "kernelspec": {
      "name": "python3",
      "display_name": "Python 3"
    },
    "language_info": {
      "name": "python"
    }
  },
  "cells": [
    {
      "cell_type": "markdown",
      "metadata": {
        "id": "view-in-github",
        "colab_type": "text"
      },
      "source": [
        "<a href=\"https://colab.research.google.com/github/AndyGoncalves/Regressao_linear/blob/main/Github_saudemental.ipynb\" target=\"_parent\"><img src=\"https://colab.research.google.com/assets/colab-badge.svg\" alt=\"Open In Colab\"/></a>"
      ]
    },
    {
      "cell_type": "markdown",
      "source": [
        "# Tema: Saúde Mental \n",
        "Desafio de Inferência Tera - jun/2022; \n",
        "Resolução de TAMY TSUJIMOTO; adaptado e comentado por mim.  "
      ],
      "metadata": {
        "id": "9cmMof5sDUNu"
      }
    },
    {
      "cell_type": "markdown",
      "source": [
        "Perguntas de norteamento:\n",
        "\n",
        "* Qual o perfil de indivíduos (adultos maiores de 18 anos) com sintomas depressivos nos EUA no período de 2005-2006?\n",
        "\n",
        "* Hábitos saudáveis de alimentação e atividade física estão associados a menores índices de depressão nesta população?"
      ],
      "metadata": {
        "id": "ErvfAfzrLAZU"
      }
    },
    {
      "cell_type": "code",
      "execution_count": 1,
      "metadata": {
        "colab": {
          "base_uri": "https://localhost:8080/"
        },
        "id": "U5WtOov3C4T4",
        "outputId": "5ab9f523-a02b-4081-9463-078a299c4a57"
      },
      "outputs": [
        {
          "output_type": "stream",
          "name": "stdout",
          "text": [
            "Mounted at /content/drive\n"
          ]
        }
      ],
      "source": [
        "#conectar ao Drive\n",
        "from google.colab import drive\n",
        "drive.mount('/content/drive')"
      ]
    },
    {
      "cell_type": "markdown",
      "source": [
        "## Contextualização:\n",
        "\n",
        "\n",
        "*   Problema:\n",
        "*   Lógica raciocínio:\n",
        "*   Solução:\n",
        "*   chave única: \"SEQN\"\n",
        "*   Base de dados: \n",
        "        * DEMO_PHQ.csv: banco de dados contendo 5334 observações de adultos pesquisados no NHANES 2005-2006.\n",
        "        * PAG_HEI.csv: banco de dados contendo 9424 observações de crianças e adultos pesquisados no NHANES 2005-2006.\n",
        "\n"
      ],
      "metadata": {
        "id": "QtnvAvQyE7r0"
      }
    },
    {
      "cell_type": "markdown",
      "source": [
        "## Definições"
      ],
      "metadata": {
        "id": "M65WDHTnKMHB"
      }
    },
    {
      "cell_type": "markdown",
      "source": [
        "**Depressão**:\n",
        "\n",
        "* Depression is a common mental disorder. Globally, it is estimated that 5% of  adults suffer from depression.\n",
        "* Depression is a leading cause of disability worldwide and is a major * contributor to the overall global burden of disease.\n",
        "* More women are affected by depression than men.\n",
        "* Depression can lead to suicide.\n",
        "* There is effective treatment for mild, moderate, and severe depression.\n",
        "* Depression results from a complex interaction of social, psychological, and biological factors.\n",
        "* **Exercise programmes for older persons can also be effective in depression prevention.**\n",
        "\n",
        "Referência: https://www.who.int/news-room/fact-sheets/detail/depression"
      ],
      "metadata": {
        "id": "TxtZxtA1KOwy"
      }
    },
    {
      "cell_type": "markdown",
      "source": [
        "O **National Health and Nutrition Examination Survey (NHANES)** é uma pesquisa anual conduzida pelo National Center for Health Statistics (NCHS) do Centro de Controle e Prevenção de Doenças (Centers for Disease Control - CDC) para avaliar a saúde e nutrição de adultos e crianças dos Estados Unidos.\n",
        "\n",
        "\n",
        "Referência: https://www.cdc.gov/nchs/nhanes/index.htm"
      ],
      "metadata": {
        "id": "RiE_GhvCMyyd"
      }
    },
    {
      "cell_type": "markdown",
      "source": [
        "O **Patient Health Questionnaire-9 (PHQ-9)** é um instrumento utilizado para avaliar o grau de depressão em pacientes.\n",
        "\n",
        "Referência: https://www.mdcalc.com/calc/1725/phq9-patient-health-questionnaire9#pearls-pitfalls"
      ],
      "metadata": {
        "id": "GR5UHL3pNUz4"
      }
    },
    {
      "cell_type": "markdown",
      "source": [
        "## Pré Tratamento"
      ],
      "metadata": {
        "id": "AEPtd0SlEagn"
      }
    },
    {
      "cell_type": "markdown",
      "source": [
        "Importando os pacotes necessários para a análise:"
      ],
      "metadata": {
        "id": "ZGA5IT_jE4EE"
      }
    },
    {
      "cell_type": "code",
      "source": [
        "import pandas as pd                #biblioteca para análises\n",
        "import numpy as np                 #biblioteca para operações numéricas\n",
        "import seaborn as sns              #biblioteca para visualização harmônica\n",
        "import matplotlib.pyplot as plt    #biblioteca para visualização prática"
      ],
      "metadata": {
        "id": "PBGliSA1DSxH"
      },
      "execution_count": 2,
      "outputs": []
    },
    {
      "cell_type": "markdown",
      "source": [
        "Leitura dos bancos de dados:"
      ],
      "metadata": {
        "id": "KBjaFKr5Ga47"
      }
    },
    {
      "cell_type": "code",
      "source": [
        "demo = pd.read_csv('/content/drive/MyDrive/CASES_GITHUB/1_Inference_challenge_TERA/DEMO_PHQ.csv')\n",
        "pag_hei = pd.read_csv('/content/drive/MyDrive/CASES_GITHUB/1_Inference_challenge_TERA/PAG_HEI.csv')"
      ],
      "metadata": {
        "id": "gPcDHbUvF6Rl"
      },
      "execution_count": 3,
      "outputs": []
    },
    {
      "cell_type": "code",
      "source": [
        "demo.info() # 5334 observações de adultos"
      ],
      "metadata": {
        "colab": {
          "base_uri": "https://localhost:8080/"
        },
        "id": "iR2d9Y1AG_hE",
        "outputId": "23e82d39-9f19-4ac3-dd6e-e60a0fa43a56"
      },
      "execution_count": 4,
      "outputs": [
        {
          "output_type": "stream",
          "name": "stdout",
          "text": [
            "<class 'pandas.core.frame.DataFrame'>\n",
            "RangeIndex: 5334 entries, 0 to 5333\n",
            "Data columns (total 15 columns):\n",
            " #   Column    Non-Null Count  Dtype  \n",
            "---  ------    --------------  -----  \n",
            " 0   SEQN      5334 non-null   int64  \n",
            " 1   DPQ010    4836 non-null   float64\n",
            " 2   DPQ020    4836 non-null   float64\n",
            " 3   DPQ030    4836 non-null   float64\n",
            " 4   DPQ040    4836 non-null   float64\n",
            " 5   DPQ050    4836 non-null   float64\n",
            " 6   DPQ060    4836 non-null   float64\n",
            " 7   DPQ070    4836 non-null   float64\n",
            " 8   DPQ080    4836 non-null   float64\n",
            " 9   DPQ090    4836 non-null   float64\n",
            " 10  RIAGENDR  5334 non-null   int64  \n",
            " 11  RIDAGEYR  5334 non-null   int64  \n",
            " 12  RIDRETH1  5334 non-null   int64  \n",
            " 13  DMDEDUC   5334 non-null   int64  \n",
            " 14  INDFMINC  5287 non-null   float64\n",
            "dtypes: float64(10), int64(5)\n",
            "memory usage: 625.2 KB\n"
          ]
        }
      ]
    },
    {
      "cell_type": "code",
      "source": [
        "#visualizar carregamento dos dados\n",
        "demo.head()"
      ],
      "metadata": {
        "colab": {
          "base_uri": "https://localhost:8080/",
          "height": 206
        },
        "id": "SswX8lbnOajh",
        "outputId": "0f018b72-4ea3-4be6-b51d-4bba120fbeac"
      },
      "execution_count": 5,
      "outputs": [
        {
          "output_type": "execute_result",
          "data": {
            "text/plain": [
              "    SEQN  DPQ010  DPQ020  DPQ030  DPQ040  DPQ050  DPQ060  DPQ070  DPQ080  \\\n",
              "0  31130     NaN     NaN     NaN     NaN     NaN     NaN     NaN     NaN   \n",
              "1  31131     0.0     0.0     0.0     0.0     0.0     0.0     0.0     0.0   \n",
              "2  31132     0.0     0.0     0.0     0.0     0.0     0.0     0.0     0.0   \n",
              "3  31134     0.0     0.0     0.0     0.0     0.0     0.0     0.0     0.0   \n",
              "4  31139     0.0     0.0     0.0     0.0     3.0     1.0     0.0     0.0   \n",
              "\n",
              "   DPQ090  RIAGENDR  RIDAGEYR  RIDRETH1  DMDEDUC  INDFMINC  \n",
              "0     NaN         2        85         3        4       4.0  \n",
              "1     0.0         2        44         4        4      11.0  \n",
              "2     0.0         1        70         3        5      11.0  \n",
              "3     0.0         1        73         3        3      12.0  \n",
              "4     0.0         2        18         2        3      11.0  "
            ],
            "text/html": [
              "\n",
              "  <div id=\"df-e773e636-1bd8-48c4-9341-0596fc62c6fb\">\n",
              "    <div class=\"colab-df-container\">\n",
              "      <div>\n",
              "<style scoped>\n",
              "    .dataframe tbody tr th:only-of-type {\n",
              "        vertical-align: middle;\n",
              "    }\n",
              "\n",
              "    .dataframe tbody tr th {\n",
              "        vertical-align: top;\n",
              "    }\n",
              "\n",
              "    .dataframe thead th {\n",
              "        text-align: right;\n",
              "    }\n",
              "</style>\n",
              "<table border=\"1\" class=\"dataframe\">\n",
              "  <thead>\n",
              "    <tr style=\"text-align: right;\">\n",
              "      <th></th>\n",
              "      <th>SEQN</th>\n",
              "      <th>DPQ010</th>\n",
              "      <th>DPQ020</th>\n",
              "      <th>DPQ030</th>\n",
              "      <th>DPQ040</th>\n",
              "      <th>DPQ050</th>\n",
              "      <th>DPQ060</th>\n",
              "      <th>DPQ070</th>\n",
              "      <th>DPQ080</th>\n",
              "      <th>DPQ090</th>\n",
              "      <th>RIAGENDR</th>\n",
              "      <th>RIDAGEYR</th>\n",
              "      <th>RIDRETH1</th>\n",
              "      <th>DMDEDUC</th>\n",
              "      <th>INDFMINC</th>\n",
              "    </tr>\n",
              "  </thead>\n",
              "  <tbody>\n",
              "    <tr>\n",
              "      <th>0</th>\n",
              "      <td>31130</td>\n",
              "      <td>NaN</td>\n",
              "      <td>NaN</td>\n",
              "      <td>NaN</td>\n",
              "      <td>NaN</td>\n",
              "      <td>NaN</td>\n",
              "      <td>NaN</td>\n",
              "      <td>NaN</td>\n",
              "      <td>NaN</td>\n",
              "      <td>NaN</td>\n",
              "      <td>2</td>\n",
              "      <td>85</td>\n",
              "      <td>3</td>\n",
              "      <td>4</td>\n",
              "      <td>4.0</td>\n",
              "    </tr>\n",
              "    <tr>\n",
              "      <th>1</th>\n",
              "      <td>31131</td>\n",
              "      <td>0.0</td>\n",
              "      <td>0.0</td>\n",
              "      <td>0.0</td>\n",
              "      <td>0.0</td>\n",
              "      <td>0.0</td>\n",
              "      <td>0.0</td>\n",
              "      <td>0.0</td>\n",
              "      <td>0.0</td>\n",
              "      <td>0.0</td>\n",
              "      <td>2</td>\n",
              "      <td>44</td>\n",
              "      <td>4</td>\n",
              "      <td>4</td>\n",
              "      <td>11.0</td>\n",
              "    </tr>\n",
              "    <tr>\n",
              "      <th>2</th>\n",
              "      <td>31132</td>\n",
              "      <td>0.0</td>\n",
              "      <td>0.0</td>\n",
              "      <td>0.0</td>\n",
              "      <td>0.0</td>\n",
              "      <td>0.0</td>\n",
              "      <td>0.0</td>\n",
              "      <td>0.0</td>\n",
              "      <td>0.0</td>\n",
              "      <td>0.0</td>\n",
              "      <td>1</td>\n",
              "      <td>70</td>\n",
              "      <td>3</td>\n",
              "      <td>5</td>\n",
              "      <td>11.0</td>\n",
              "    </tr>\n",
              "    <tr>\n",
              "      <th>3</th>\n",
              "      <td>31134</td>\n",
              "      <td>0.0</td>\n",
              "      <td>0.0</td>\n",
              "      <td>0.0</td>\n",
              "      <td>0.0</td>\n",
              "      <td>0.0</td>\n",
              "      <td>0.0</td>\n",
              "      <td>0.0</td>\n",
              "      <td>0.0</td>\n",
              "      <td>0.0</td>\n",
              "      <td>1</td>\n",
              "      <td>73</td>\n",
              "      <td>3</td>\n",
              "      <td>3</td>\n",
              "      <td>12.0</td>\n",
              "    </tr>\n",
              "    <tr>\n",
              "      <th>4</th>\n",
              "      <td>31139</td>\n",
              "      <td>0.0</td>\n",
              "      <td>0.0</td>\n",
              "      <td>0.0</td>\n",
              "      <td>0.0</td>\n",
              "      <td>3.0</td>\n",
              "      <td>1.0</td>\n",
              "      <td>0.0</td>\n",
              "      <td>0.0</td>\n",
              "      <td>0.0</td>\n",
              "      <td>2</td>\n",
              "      <td>18</td>\n",
              "      <td>2</td>\n",
              "      <td>3</td>\n",
              "      <td>11.0</td>\n",
              "    </tr>\n",
              "  </tbody>\n",
              "</table>\n",
              "</div>\n",
              "      <button class=\"colab-df-convert\" onclick=\"convertToInteractive('df-e773e636-1bd8-48c4-9341-0596fc62c6fb')\"\n",
              "              title=\"Convert this dataframe to an interactive table.\"\n",
              "              style=\"display:none;\">\n",
              "        \n",
              "  <svg xmlns=\"http://www.w3.org/2000/svg\" height=\"24px\"viewBox=\"0 0 24 24\"\n",
              "       width=\"24px\">\n",
              "    <path d=\"M0 0h24v24H0V0z\" fill=\"none\"/>\n",
              "    <path d=\"M18.56 5.44l.94 2.06.94-2.06 2.06-.94-2.06-.94-.94-2.06-.94 2.06-2.06.94zm-11 1L8.5 8.5l.94-2.06 2.06-.94-2.06-.94L8.5 2.5l-.94 2.06-2.06.94zm10 10l.94 2.06.94-2.06 2.06-.94-2.06-.94-.94-2.06-.94 2.06-2.06.94z\"/><path d=\"M17.41 7.96l-1.37-1.37c-.4-.4-.92-.59-1.43-.59-.52 0-1.04.2-1.43.59L10.3 9.45l-7.72 7.72c-.78.78-.78 2.05 0 2.83L4 21.41c.39.39.9.59 1.41.59.51 0 1.02-.2 1.41-.59l7.78-7.78 2.81-2.81c.8-.78.8-2.07 0-2.86zM5.41 20L4 18.59l7.72-7.72 1.47 1.35L5.41 20z\"/>\n",
              "  </svg>\n",
              "      </button>\n",
              "      \n",
              "  <style>\n",
              "    .colab-df-container {\n",
              "      display:flex;\n",
              "      flex-wrap:wrap;\n",
              "      gap: 12px;\n",
              "    }\n",
              "\n",
              "    .colab-df-convert {\n",
              "      background-color: #E8F0FE;\n",
              "      border: none;\n",
              "      border-radius: 50%;\n",
              "      cursor: pointer;\n",
              "      display: none;\n",
              "      fill: #1967D2;\n",
              "      height: 32px;\n",
              "      padding: 0 0 0 0;\n",
              "      width: 32px;\n",
              "    }\n",
              "\n",
              "    .colab-df-convert:hover {\n",
              "      background-color: #E2EBFA;\n",
              "      box-shadow: 0px 1px 2px rgba(60, 64, 67, 0.3), 0px 1px 3px 1px rgba(60, 64, 67, 0.15);\n",
              "      fill: #174EA6;\n",
              "    }\n",
              "\n",
              "    [theme=dark] .colab-df-convert {\n",
              "      background-color: #3B4455;\n",
              "      fill: #D2E3FC;\n",
              "    }\n",
              "\n",
              "    [theme=dark] .colab-df-convert:hover {\n",
              "      background-color: #434B5C;\n",
              "      box-shadow: 0px 1px 3px 1px rgba(0, 0, 0, 0.15);\n",
              "      filter: drop-shadow(0px 1px 2px rgba(0, 0, 0, 0.3));\n",
              "      fill: #FFFFFF;\n",
              "    }\n",
              "  </style>\n",
              "\n",
              "      <script>\n",
              "        const buttonEl =\n",
              "          document.querySelector('#df-e773e636-1bd8-48c4-9341-0596fc62c6fb button.colab-df-convert');\n",
              "        buttonEl.style.display =\n",
              "          google.colab.kernel.accessAllowed ? 'block' : 'none';\n",
              "\n",
              "        async function convertToInteractive(key) {\n",
              "          const element = document.querySelector('#df-e773e636-1bd8-48c4-9341-0596fc62c6fb');\n",
              "          const dataTable =\n",
              "            await google.colab.kernel.invokeFunction('convertToInteractive',\n",
              "                                                     [key], {});\n",
              "          if (!dataTable) return;\n",
              "\n",
              "          const docLinkHtml = 'Like what you see? Visit the ' +\n",
              "            '<a target=\"_blank\" href=https://colab.research.google.com/notebooks/data_table.ipynb>data table notebook</a>'\n",
              "            + ' to learn more about interactive tables.';\n",
              "          element.innerHTML = '';\n",
              "          dataTable['output_type'] = 'display_data';\n",
              "          await google.colab.output.renderOutput(dataTable, element);\n",
              "          const docLink = document.createElement('div');\n",
              "          docLink.innerHTML = docLinkHtml;\n",
              "          element.appendChild(docLink);\n",
              "        }\n",
              "      </script>\n",
              "    </div>\n",
              "  </div>\n",
              "  "
            ]
          },
          "metadata": {},
          "execution_count": 5
        }
      ]
    },
    {
      "cell_type": "code",
      "source": [
        "pag_hei.info() # 9424 observações de crianças e adultos"
      ],
      "metadata": {
        "colab": {
          "base_uri": "https://localhost:8080/"
        },
        "id": "8HOJbRx2PBtK",
        "outputId": "b6f3b810-f061-435b-e459-8d8232517bde"
      },
      "execution_count": 6,
      "outputs": [
        {
          "output_type": "stream",
          "name": "stdout",
          "text": [
            "<class 'pandas.core.frame.DataFrame'>\n",
            "RangeIndex: 9424 entries, 0 to 9423\n",
            "Data columns (total 17 columns):\n",
            " #   Column                    Non-Null Count  Dtype  \n",
            "---  ------                    --------------  -----  \n",
            " 0   SEQN                      9424 non-null   int64  \n",
            " 1   PAG_MINW                  7150 non-null   float64\n",
            " 2   ADHERENCE                 7150 non-null   float64\n",
            " 3   HEI2015C1_TOTALVEG        8549 non-null   float64\n",
            " 4   HEI2015C2_GREEN_AND_BEAN  8549 non-null   float64\n",
            " 5   HEI2015C3_TOTALFRUIT      8549 non-null   float64\n",
            " 6   HEI2015C4_WHOLEFRUIT      8549 non-null   float64\n",
            " 7   HEI2015C5_WHOLEGRAIN      8549 non-null   float64\n",
            " 8   HEI2015C6_TOTALDAIRY      8549 non-null   float64\n",
            " 9   HEI2015C7_TOTPROT         8549 non-null   float64\n",
            " 10  HEI2015C8_SEAPLANT_PROT   8549 non-null   float64\n",
            " 11  HEI2015C9_FATTYACID       8549 non-null   float64\n",
            " 12  HEI2015C10_SODIUM         8549 non-null   float64\n",
            " 13  HEI2015C11_REFINEDGRAIN   8549 non-null   float64\n",
            " 14  HEI2015C12_SFAT           8549 non-null   float64\n",
            " 15  HEI2015C13_ADDSUG         8549 non-null   float64\n",
            " 16  HEI2015_TOTAL_SCORE       8549 non-null   float64\n",
            "dtypes: float64(16), int64(1)\n",
            "memory usage: 1.2 MB\n"
          ]
        }
      ]
    },
    {
      "cell_type": "code",
      "source": [
        "#visualizar carregamento dos dados\n",
        "pag_hei.head()"
      ],
      "metadata": {
        "colab": {
          "base_uri": "https://localhost:8080/",
          "height": 270
        },
        "id": "pZuRnpr7T0fg",
        "outputId": "e62f23c3-2b12-41f6-9389-9df8bc80e835"
      },
      "execution_count": 7,
      "outputs": [
        {
          "output_type": "execute_result",
          "data": {
            "text/plain": [
              "    SEQN     PAG_MINW  ADHERENCE  HEI2015C1_TOTALVEG  \\\n",
              "0  31128          NaN        NaN            3.083350   \n",
              "1  31129   285.450346        2.0            1.697761   \n",
              "2  31130     0.000000        1.0                 NaN   \n",
              "3  31131   264.711316        2.0            3.115103   \n",
              "4  31132  1353.348730        3.0            3.509081   \n",
              "\n",
              "   HEI2015C2_GREEN_AND_BEAN  HEI2015C3_TOTALFRUIT  HEI2015C4_WHOLEFRUIT  \\\n",
              "0                       0.0              3.927008              5.000000   \n",
              "1                       0.0              3.731602              4.929186   \n",
              "2                       NaN                   NaN                   NaN   \n",
              "3                       0.0              5.000000              1.320674   \n",
              "4                       0.0              5.000000              5.000000   \n",
              "\n",
              "   HEI2015C5_WHOLEGRAIN  HEI2015C6_TOTALDAIRY  HEI2015C7_TOTPROT  \\\n",
              "0              0.000000              5.000000           4.251329   \n",
              "1              0.527631              3.887809           4.693141   \n",
              "2                   NaN                   NaN                NaN   \n",
              "3              0.000000              3.141062           4.071959   \n",
              "4              5.000000              4.448512           5.000000   \n",
              "\n",
              "   HEI2015C8_SEAPLANT_PROT  HEI2015C9_FATTYACID  HEI2015C10_SODIUM  \\\n",
              "0                 0.000000             2.487572           6.911882   \n",
              "1                 0.928562             3.740758           6.146441   \n",
              "2                      NaN                  NaN                NaN   \n",
              "3                 2.052399             0.684985           2.297100   \n",
              "4                 0.000000             2.050769           7.369489   \n",
              "\n",
              "   HEI2015C11_REFINEDGRAIN  HEI2015C12_SFAT  HEI2015C13_ADDSUG  \\\n",
              "0                10.000000         0.818029           6.408092   \n",
              "1                 7.274979         8.006457           0.000000   \n",
              "2                      NaN              NaN                NaN   \n",
              "3                 9.512964         0.438428           3.919226   \n",
              "4                 8.887880         8.186877           9.099088   \n",
              "\n",
              "   HEI2015_TOTAL_SCORE  \n",
              "0            47.887262  \n",
              "1            45.564326  \n",
              "2                  NaN  \n",
              "3            35.553899  \n",
              "4            63.551696  "
            ],
            "text/html": [
              "\n",
              "  <div id=\"df-715a85d9-2196-415c-a420-2f98c42bad4d\">\n",
              "    <div class=\"colab-df-container\">\n",
              "      <div>\n",
              "<style scoped>\n",
              "    .dataframe tbody tr th:only-of-type {\n",
              "        vertical-align: middle;\n",
              "    }\n",
              "\n",
              "    .dataframe tbody tr th {\n",
              "        vertical-align: top;\n",
              "    }\n",
              "\n",
              "    .dataframe thead th {\n",
              "        text-align: right;\n",
              "    }\n",
              "</style>\n",
              "<table border=\"1\" class=\"dataframe\">\n",
              "  <thead>\n",
              "    <tr style=\"text-align: right;\">\n",
              "      <th></th>\n",
              "      <th>SEQN</th>\n",
              "      <th>PAG_MINW</th>\n",
              "      <th>ADHERENCE</th>\n",
              "      <th>HEI2015C1_TOTALVEG</th>\n",
              "      <th>HEI2015C2_GREEN_AND_BEAN</th>\n",
              "      <th>HEI2015C3_TOTALFRUIT</th>\n",
              "      <th>HEI2015C4_WHOLEFRUIT</th>\n",
              "      <th>HEI2015C5_WHOLEGRAIN</th>\n",
              "      <th>HEI2015C6_TOTALDAIRY</th>\n",
              "      <th>HEI2015C7_TOTPROT</th>\n",
              "      <th>HEI2015C8_SEAPLANT_PROT</th>\n",
              "      <th>HEI2015C9_FATTYACID</th>\n",
              "      <th>HEI2015C10_SODIUM</th>\n",
              "      <th>HEI2015C11_REFINEDGRAIN</th>\n",
              "      <th>HEI2015C12_SFAT</th>\n",
              "      <th>HEI2015C13_ADDSUG</th>\n",
              "      <th>HEI2015_TOTAL_SCORE</th>\n",
              "    </tr>\n",
              "  </thead>\n",
              "  <tbody>\n",
              "    <tr>\n",
              "      <th>0</th>\n",
              "      <td>31128</td>\n",
              "      <td>NaN</td>\n",
              "      <td>NaN</td>\n",
              "      <td>3.083350</td>\n",
              "      <td>0.0</td>\n",
              "      <td>3.927008</td>\n",
              "      <td>5.000000</td>\n",
              "      <td>0.000000</td>\n",
              "      <td>5.000000</td>\n",
              "      <td>4.251329</td>\n",
              "      <td>0.000000</td>\n",
              "      <td>2.487572</td>\n",
              "      <td>6.911882</td>\n",
              "      <td>10.000000</td>\n",
              "      <td>0.818029</td>\n",
              "      <td>6.408092</td>\n",
              "      <td>47.887262</td>\n",
              "    </tr>\n",
              "    <tr>\n",
              "      <th>1</th>\n",
              "      <td>31129</td>\n",
              "      <td>285.450346</td>\n",
              "      <td>2.0</td>\n",
              "      <td>1.697761</td>\n",
              "      <td>0.0</td>\n",
              "      <td>3.731602</td>\n",
              "      <td>4.929186</td>\n",
              "      <td>0.527631</td>\n",
              "      <td>3.887809</td>\n",
              "      <td>4.693141</td>\n",
              "      <td>0.928562</td>\n",
              "      <td>3.740758</td>\n",
              "      <td>6.146441</td>\n",
              "      <td>7.274979</td>\n",
              "      <td>8.006457</td>\n",
              "      <td>0.000000</td>\n",
              "      <td>45.564326</td>\n",
              "    </tr>\n",
              "    <tr>\n",
              "      <th>2</th>\n",
              "      <td>31130</td>\n",
              "      <td>0.000000</td>\n",
              "      <td>1.0</td>\n",
              "      <td>NaN</td>\n",
              "      <td>NaN</td>\n",
              "      <td>NaN</td>\n",
              "      <td>NaN</td>\n",
              "      <td>NaN</td>\n",
              "      <td>NaN</td>\n",
              "      <td>NaN</td>\n",
              "      <td>NaN</td>\n",
              "      <td>NaN</td>\n",
              "      <td>NaN</td>\n",
              "      <td>NaN</td>\n",
              "      <td>NaN</td>\n",
              "      <td>NaN</td>\n",
              "      <td>NaN</td>\n",
              "    </tr>\n",
              "    <tr>\n",
              "      <th>3</th>\n",
              "      <td>31131</td>\n",
              "      <td>264.711316</td>\n",
              "      <td>2.0</td>\n",
              "      <td>3.115103</td>\n",
              "      <td>0.0</td>\n",
              "      <td>5.000000</td>\n",
              "      <td>1.320674</td>\n",
              "      <td>0.000000</td>\n",
              "      <td>3.141062</td>\n",
              "      <td>4.071959</td>\n",
              "      <td>2.052399</td>\n",
              "      <td>0.684985</td>\n",
              "      <td>2.297100</td>\n",
              "      <td>9.512964</td>\n",
              "      <td>0.438428</td>\n",
              "      <td>3.919226</td>\n",
              "      <td>35.553899</td>\n",
              "    </tr>\n",
              "    <tr>\n",
              "      <th>4</th>\n",
              "      <td>31132</td>\n",
              "      <td>1353.348730</td>\n",
              "      <td>3.0</td>\n",
              "      <td>3.509081</td>\n",
              "      <td>0.0</td>\n",
              "      <td>5.000000</td>\n",
              "      <td>5.000000</td>\n",
              "      <td>5.000000</td>\n",
              "      <td>4.448512</td>\n",
              "      <td>5.000000</td>\n",
              "      <td>0.000000</td>\n",
              "      <td>2.050769</td>\n",
              "      <td>7.369489</td>\n",
              "      <td>8.887880</td>\n",
              "      <td>8.186877</td>\n",
              "      <td>9.099088</td>\n",
              "      <td>63.551696</td>\n",
              "    </tr>\n",
              "  </tbody>\n",
              "</table>\n",
              "</div>\n",
              "      <button class=\"colab-df-convert\" onclick=\"convertToInteractive('df-715a85d9-2196-415c-a420-2f98c42bad4d')\"\n",
              "              title=\"Convert this dataframe to an interactive table.\"\n",
              "              style=\"display:none;\">\n",
              "        \n",
              "  <svg xmlns=\"http://www.w3.org/2000/svg\" height=\"24px\"viewBox=\"0 0 24 24\"\n",
              "       width=\"24px\">\n",
              "    <path d=\"M0 0h24v24H0V0z\" fill=\"none\"/>\n",
              "    <path d=\"M18.56 5.44l.94 2.06.94-2.06 2.06-.94-2.06-.94-.94-2.06-.94 2.06-2.06.94zm-11 1L8.5 8.5l.94-2.06 2.06-.94-2.06-.94L8.5 2.5l-.94 2.06-2.06.94zm10 10l.94 2.06.94-2.06 2.06-.94-2.06-.94-.94-2.06-.94 2.06-2.06.94z\"/><path d=\"M17.41 7.96l-1.37-1.37c-.4-.4-.92-.59-1.43-.59-.52 0-1.04.2-1.43.59L10.3 9.45l-7.72 7.72c-.78.78-.78 2.05 0 2.83L4 21.41c.39.39.9.59 1.41.59.51 0 1.02-.2 1.41-.59l7.78-7.78 2.81-2.81c.8-.78.8-2.07 0-2.86zM5.41 20L4 18.59l7.72-7.72 1.47 1.35L5.41 20z\"/>\n",
              "  </svg>\n",
              "      </button>\n",
              "      \n",
              "  <style>\n",
              "    .colab-df-container {\n",
              "      display:flex;\n",
              "      flex-wrap:wrap;\n",
              "      gap: 12px;\n",
              "    }\n",
              "\n",
              "    .colab-df-convert {\n",
              "      background-color: #E8F0FE;\n",
              "      border: none;\n",
              "      border-radius: 50%;\n",
              "      cursor: pointer;\n",
              "      display: none;\n",
              "      fill: #1967D2;\n",
              "      height: 32px;\n",
              "      padding: 0 0 0 0;\n",
              "      width: 32px;\n",
              "    }\n",
              "\n",
              "    .colab-df-convert:hover {\n",
              "      background-color: #E2EBFA;\n",
              "      box-shadow: 0px 1px 2px rgba(60, 64, 67, 0.3), 0px 1px 3px 1px rgba(60, 64, 67, 0.15);\n",
              "      fill: #174EA6;\n",
              "    }\n",
              "\n",
              "    [theme=dark] .colab-df-convert {\n",
              "      background-color: #3B4455;\n",
              "      fill: #D2E3FC;\n",
              "    }\n",
              "\n",
              "    [theme=dark] .colab-df-convert:hover {\n",
              "      background-color: #434B5C;\n",
              "      box-shadow: 0px 1px 3px 1px rgba(0, 0, 0, 0.15);\n",
              "      filter: drop-shadow(0px 1px 2px rgba(0, 0, 0, 0.3));\n",
              "      fill: #FFFFFF;\n",
              "    }\n",
              "  </style>\n",
              "\n",
              "      <script>\n",
              "        const buttonEl =\n",
              "          document.querySelector('#df-715a85d9-2196-415c-a420-2f98c42bad4d button.colab-df-convert');\n",
              "        buttonEl.style.display =\n",
              "          google.colab.kernel.accessAllowed ? 'block' : 'none';\n",
              "\n",
              "        async function convertToInteractive(key) {\n",
              "          const element = document.querySelector('#df-715a85d9-2196-415c-a420-2f98c42bad4d');\n",
              "          const dataTable =\n",
              "            await google.colab.kernel.invokeFunction('convertToInteractive',\n",
              "                                                     [key], {});\n",
              "          if (!dataTable) return;\n",
              "\n",
              "          const docLinkHtml = 'Like what you see? Visit the ' +\n",
              "            '<a target=\"_blank\" href=https://colab.research.google.com/notebooks/data_table.ipynb>data table notebook</a>'\n",
              "            + ' to learn more about interactive tables.';\n",
              "          element.innerHTML = '';\n",
              "          dataTable['output_type'] = 'display_data';\n",
              "          await google.colab.output.renderOutput(dataTable, element);\n",
              "          const docLink = document.createElement('div');\n",
              "          docLink.innerHTML = docLinkHtml;\n",
              "          element.appendChild(docLink);\n",
              "        }\n",
              "      </script>\n",
              "    </div>\n",
              "  </div>\n",
              "  "
            ]
          },
          "metadata": {},
          "execution_count": 7
        }
      ]
    },
    {
      "cell_type": "markdown",
      "source": [
        "Combinando banco de dados:"
      ],
      "metadata": {
        "id": "IkEUOKxRPIjL"
      }
    },
    {
      "cell_type": "code",
      "source": [
        "#Para a combinação dos dados foi utilizado o parâmetro 'left', no qual mantem o total de dados da base 'demo'(a esquerda do '.merge');\n",
        "# A chave de união foi a variável 'SEQN' encontrada em ambos. Caso a chave não tivesse nome iguais, seria preciso modificar, ou especificar no parâmetro.\n",
        "\n",
        "db = demo.merge(pag_hei, on = 'SEQN', how = 'left')\n",
        "db.info()"
      ],
      "metadata": {
        "colab": {
          "base_uri": "https://localhost:8080/"
        },
        "id": "UG763zHXPF1i",
        "outputId": "97455027-4b7b-437f-886b-4f5ac36ffb6c"
      },
      "execution_count": 8,
      "outputs": [
        {
          "output_type": "stream",
          "name": "stdout",
          "text": [
            "<class 'pandas.core.frame.DataFrame'>\n",
            "Int64Index: 5334 entries, 0 to 5333\n",
            "Data columns (total 31 columns):\n",
            " #   Column                    Non-Null Count  Dtype  \n",
            "---  ------                    --------------  -----  \n",
            " 0   SEQN                      5334 non-null   int64  \n",
            " 1   DPQ010                    4836 non-null   float64\n",
            " 2   DPQ020                    4836 non-null   float64\n",
            " 3   DPQ030                    4836 non-null   float64\n",
            " 4   DPQ040                    4836 non-null   float64\n",
            " 5   DPQ050                    4836 non-null   float64\n",
            " 6   DPQ060                    4836 non-null   float64\n",
            " 7   DPQ070                    4836 non-null   float64\n",
            " 8   DPQ080                    4836 non-null   float64\n",
            " 9   DPQ090                    4836 non-null   float64\n",
            " 10  RIAGENDR                  5334 non-null   int64  \n",
            " 11  RIDAGEYR                  5334 non-null   int64  \n",
            " 12  RIDRETH1                  5334 non-null   int64  \n",
            " 13  DMDEDUC                   5334 non-null   int64  \n",
            " 14  INDFMINC                  5287 non-null   float64\n",
            " 15  PAG_MINW                  5334 non-null   float64\n",
            " 16  ADHERENCE                 5334 non-null   float64\n",
            " 17  HEI2015C1_TOTALVEG        5060 non-null   float64\n",
            " 18  HEI2015C2_GREEN_AND_BEAN  5060 non-null   float64\n",
            " 19  HEI2015C3_TOTALFRUIT      5060 non-null   float64\n",
            " 20  HEI2015C4_WHOLEFRUIT      5060 non-null   float64\n",
            " 21  HEI2015C5_WHOLEGRAIN      5060 non-null   float64\n",
            " 22  HEI2015C6_TOTALDAIRY      5060 non-null   float64\n",
            " 23  HEI2015C7_TOTPROT         5060 non-null   float64\n",
            " 24  HEI2015C8_SEAPLANT_PROT   5060 non-null   float64\n",
            " 25  HEI2015C9_FATTYACID       5060 non-null   float64\n",
            " 26  HEI2015C10_SODIUM         5060 non-null   float64\n",
            " 27  HEI2015C11_REFINEDGRAIN   5060 non-null   float64\n",
            " 28  HEI2015C12_SFAT           5060 non-null   float64\n",
            " 29  HEI2015C13_ADDSUG         5060 non-null   float64\n",
            " 30  HEI2015_TOTAL_SCORE       5060 non-null   float64\n",
            "dtypes: float64(26), int64(5)\n",
            "memory usage: 1.3 MB\n"
          ]
        }
      ]
    },
    {
      "cell_type": "markdown",
      "source": [
        "### Tratamento das variáveis"
      ],
      "metadata": {
        "id": "kVUI5TyuQmKT"
      }
    },
    {
      "cell_type": "markdown",
      "source": [
        "Avaliando o percentual de casos faltantes (missing):"
      ],
      "metadata": {
        "id": "GLbGOEz4QpE1"
      }
    },
    {
      "cell_type": "code",
      "source": [
        "#isnull()mostrará se apresenta valor falso ou não.\n",
        "#mean() vai somar todos os nulos e dividir pelo total de observações da coluna. \n",
        "#sort_values organiza os valores encontrados de forma decrescente. \n",
        "#round(4)*100 vai arredondar e transformar em percentual. \n",
        "db.isnull().mean().sort_values(ascending = False).round(4)*100"
      ],
      "metadata": {
        "colab": {
          "base_uri": "https://localhost:8080/"
        },
        "id": "n8g-HAbQQh12",
        "outputId": "e774633b-eee2-472d-87e1-c551baab0fac"
      },
      "execution_count": 9,
      "outputs": [
        {
          "output_type": "execute_result",
          "data": {
            "text/plain": [
              "DPQ020                      9.34\n",
              "DPQ030                      9.34\n",
              "DPQ040                      9.34\n",
              "DPQ050                      9.34\n",
              "DPQ060                      9.34\n",
              "DPQ070                      9.34\n",
              "DPQ080                      9.34\n",
              "DPQ090                      9.34\n",
              "DPQ010                      9.34\n",
              "HEI2015_TOTAL_SCORE         5.14\n",
              "HEI2015C1_TOTALVEG          5.14\n",
              "HEI2015C6_TOTALDAIRY        5.14\n",
              "HEI2015C5_WHOLEGRAIN        5.14\n",
              "HEI2015C4_WHOLEFRUIT        5.14\n",
              "HEI2015C3_TOTALFRUIT        5.14\n",
              "HEI2015C2_GREEN_AND_BEAN    5.14\n",
              "HEI2015C11_REFINEDGRAIN     5.14\n",
              "HEI2015C9_FATTYACID         5.14\n",
              "HEI2015C10_SODIUM           5.14\n",
              "HEI2015C8_SEAPLANT_PROT     5.14\n",
              "HEI2015C12_SFAT             5.14\n",
              "HEI2015C13_ADDSUG           5.14\n",
              "HEI2015C7_TOTPROT           5.14\n",
              "INDFMINC                    0.88\n",
              "SEQN                        0.00\n",
              "ADHERENCE                   0.00\n",
              "DMDEDUC                     0.00\n",
              "RIDRETH1                    0.00\n",
              "RIDAGEYR                    0.00\n",
              "RIAGENDR                    0.00\n",
              "PAG_MINW                    0.00\n",
              "dtype: float64"
            ]
          },
          "metadata": {},
          "execution_count": 9
        }
      ]
    },
    {
      "cell_type": "markdown",
      "source": [
        "Medidas resumo das variáveis quantitativas:"
      ],
      "metadata": {
        "id": "VuTuLuilSKqj"
      }
    },
    {
      "cell_type": "code",
      "source": [
        "#Excluir a coluna chave 'SEQN' porque ela não apresenta informações significativas, além do uso para a união das tabelas. \n",
        "#Visualizar quantativamente as faixas de distribuição dos dados. \n",
        "db.drop(columns=['SEQN']).describe(percentiles = [.25, .5, .75, .95, .99]).round(2)"
      ],
      "metadata": {
        "colab": {
          "base_uri": "https://localhost:8080/",
          "height": 456
        },
        "id": "ZdOpcSZ2SISy",
        "outputId": "d432310e-4a4d-4d45-a6ed-2ab3242ec145"
      },
      "execution_count": 10,
      "outputs": [
        {
          "output_type": "execute_result",
          "data": {
            "text/plain": [
              "        DPQ010   DPQ020   DPQ030   DPQ040   DPQ050   DPQ060   DPQ070   DPQ080  \\\n",
              "count  4836.00  4836.00  4836.00  4836.00  4836.00  4836.00  4836.00  4836.00   \n",
              "mean      0.31     0.31     0.55     0.72     0.32     0.21     0.23     0.15   \n",
              "std       0.76     0.71     0.93     0.91     0.74     0.62     0.64     0.59   \n",
              "min       0.00     0.00     0.00     0.00     0.00     0.00     0.00     0.00   \n",
              "25%       0.00     0.00     0.00     0.00     0.00     0.00     0.00     0.00   \n",
              "50%       0.00     0.00     0.00     0.00     0.00     0.00     0.00     0.00   \n",
              "75%       0.00     0.00     1.00     1.00     0.00     0.00     0.00     0.00   \n",
              "95%       2.00     2.00     3.00     3.00     2.00     1.00     1.00     1.00   \n",
              "99%       3.00     3.00     3.00     3.00     3.00     3.00     3.00     3.00   \n",
              "max       9.00     9.00     9.00     9.00     9.00     9.00     9.00     9.00   \n",
              "\n",
              "        DPQ090  RIAGENDR  ...  HEI2015C5_WHOLEGRAIN  HEI2015C6_TOTALDAIRY  \\\n",
              "count  4836.00   5334.00  ...               5060.00               5060.00   \n",
              "mean      0.05      1.52  ...                  1.76                  3.76   \n",
              "std       0.33      0.50  ...                  1.92                  1.61   \n",
              "min       0.00      1.00  ...                  0.00                  0.00   \n",
              "25%       0.00      1.00  ...                  0.00                  2.59   \n",
              "50%       0.00      2.00  ...                  1.03                  4.94   \n",
              "75%       0.00      2.00  ...                  3.41                  5.00   \n",
              "95%       0.00      2.00  ...                  5.00                  5.00   \n",
              "99%       1.00      2.00  ...                  5.00                  5.00   \n",
              "max       9.00      2.00  ...                  5.00                  5.00   \n",
              "\n",
              "       HEI2015C7_TOTPROT  HEI2015C8_SEAPLANT_PROT  HEI2015C9_FATTYACID  \\\n",
              "count            5060.00                  5060.00              5060.00   \n",
              "mean                4.43                     2.59                 4.71   \n",
              "std                 1.01                     2.17                 3.24   \n",
              "min                 0.00                     0.00                 0.00   \n",
              "25%                 4.17                     0.00                 2.02   \n",
              "50%                 5.00                     2.59                 4.43   \n",
              "75%                 5.00                     5.00                 7.27   \n",
              "95%                 5.00                     5.00                10.00   \n",
              "99%                 5.00                     5.00                10.00   \n",
              "max                 5.00                     5.00                10.00   \n",
              "\n",
              "       HEI2015C10_SODIUM  HEI2015C11_REFINEDGRAIN  HEI2015C12_SFAT  \\\n",
              "count            5060.00                  5060.00          5060.00   \n",
              "mean                4.76                     5.80             6.07   \n",
              "std                 3.42                     3.50             3.18   \n",
              "min                 0.00                     0.00             0.00   \n",
              "25%                 1.59                     2.93             3.70   \n",
              "50%                 4.83                     6.23             6.41   \n",
              "75%                 7.65                     9.25             9.00   \n",
              "95%                10.00                    10.00            10.00   \n",
              "99%                10.00                    10.00            10.00   \n",
              "max                10.00                    10.00            10.00   \n",
              "\n",
              "       HEI2015C13_ADDSUG  HEI2015_TOTAL_SCORE  \n",
              "count            5060.00              5060.00  \n",
              "mean                6.22                49.97  \n",
              "std                 3.33                12.32  \n",
              "min                 0.00                16.06  \n",
              "25%                 3.72                41.03  \n",
              "50%                 6.86                49.51  \n",
              "75%                 9.45                58.17  \n",
              "95%                10.00                71.19  \n",
              "99%                10.00                79.86  \n",
              "max                10.00                89.53  \n",
              "\n",
              "[10 rows x 30 columns]"
            ],
            "text/html": [
              "\n",
              "  <div id=\"df-41a0a715-ad76-4e08-8da3-5e589916e2fa\">\n",
              "    <div class=\"colab-df-container\">\n",
              "      <div>\n",
              "<style scoped>\n",
              "    .dataframe tbody tr th:only-of-type {\n",
              "        vertical-align: middle;\n",
              "    }\n",
              "\n",
              "    .dataframe tbody tr th {\n",
              "        vertical-align: top;\n",
              "    }\n",
              "\n",
              "    .dataframe thead th {\n",
              "        text-align: right;\n",
              "    }\n",
              "</style>\n",
              "<table border=\"1\" class=\"dataframe\">\n",
              "  <thead>\n",
              "    <tr style=\"text-align: right;\">\n",
              "      <th></th>\n",
              "      <th>DPQ010</th>\n",
              "      <th>DPQ020</th>\n",
              "      <th>DPQ030</th>\n",
              "      <th>DPQ040</th>\n",
              "      <th>DPQ050</th>\n",
              "      <th>DPQ060</th>\n",
              "      <th>DPQ070</th>\n",
              "      <th>DPQ080</th>\n",
              "      <th>DPQ090</th>\n",
              "      <th>RIAGENDR</th>\n",
              "      <th>...</th>\n",
              "      <th>HEI2015C5_WHOLEGRAIN</th>\n",
              "      <th>HEI2015C6_TOTALDAIRY</th>\n",
              "      <th>HEI2015C7_TOTPROT</th>\n",
              "      <th>HEI2015C8_SEAPLANT_PROT</th>\n",
              "      <th>HEI2015C9_FATTYACID</th>\n",
              "      <th>HEI2015C10_SODIUM</th>\n",
              "      <th>HEI2015C11_REFINEDGRAIN</th>\n",
              "      <th>HEI2015C12_SFAT</th>\n",
              "      <th>HEI2015C13_ADDSUG</th>\n",
              "      <th>HEI2015_TOTAL_SCORE</th>\n",
              "    </tr>\n",
              "  </thead>\n",
              "  <tbody>\n",
              "    <tr>\n",
              "      <th>count</th>\n",
              "      <td>4836.00</td>\n",
              "      <td>4836.00</td>\n",
              "      <td>4836.00</td>\n",
              "      <td>4836.00</td>\n",
              "      <td>4836.00</td>\n",
              "      <td>4836.00</td>\n",
              "      <td>4836.00</td>\n",
              "      <td>4836.00</td>\n",
              "      <td>4836.00</td>\n",
              "      <td>5334.00</td>\n",
              "      <td>...</td>\n",
              "      <td>5060.00</td>\n",
              "      <td>5060.00</td>\n",
              "      <td>5060.00</td>\n",
              "      <td>5060.00</td>\n",
              "      <td>5060.00</td>\n",
              "      <td>5060.00</td>\n",
              "      <td>5060.00</td>\n",
              "      <td>5060.00</td>\n",
              "      <td>5060.00</td>\n",
              "      <td>5060.00</td>\n",
              "    </tr>\n",
              "    <tr>\n",
              "      <th>mean</th>\n",
              "      <td>0.31</td>\n",
              "      <td>0.31</td>\n",
              "      <td>0.55</td>\n",
              "      <td>0.72</td>\n",
              "      <td>0.32</td>\n",
              "      <td>0.21</td>\n",
              "      <td>0.23</td>\n",
              "      <td>0.15</td>\n",
              "      <td>0.05</td>\n",
              "      <td>1.52</td>\n",
              "      <td>...</td>\n",
              "      <td>1.76</td>\n",
              "      <td>3.76</td>\n",
              "      <td>4.43</td>\n",
              "      <td>2.59</td>\n",
              "      <td>4.71</td>\n",
              "      <td>4.76</td>\n",
              "      <td>5.80</td>\n",
              "      <td>6.07</td>\n",
              "      <td>6.22</td>\n",
              "      <td>49.97</td>\n",
              "    </tr>\n",
              "    <tr>\n",
              "      <th>std</th>\n",
              "      <td>0.76</td>\n",
              "      <td>0.71</td>\n",
              "      <td>0.93</td>\n",
              "      <td>0.91</td>\n",
              "      <td>0.74</td>\n",
              "      <td>0.62</td>\n",
              "      <td>0.64</td>\n",
              "      <td>0.59</td>\n",
              "      <td>0.33</td>\n",
              "      <td>0.50</td>\n",
              "      <td>...</td>\n",
              "      <td>1.92</td>\n",
              "      <td>1.61</td>\n",
              "      <td>1.01</td>\n",
              "      <td>2.17</td>\n",
              "      <td>3.24</td>\n",
              "      <td>3.42</td>\n",
              "      <td>3.50</td>\n",
              "      <td>3.18</td>\n",
              "      <td>3.33</td>\n",
              "      <td>12.32</td>\n",
              "    </tr>\n",
              "    <tr>\n",
              "      <th>min</th>\n",
              "      <td>0.00</td>\n",
              "      <td>0.00</td>\n",
              "      <td>0.00</td>\n",
              "      <td>0.00</td>\n",
              "      <td>0.00</td>\n",
              "      <td>0.00</td>\n",
              "      <td>0.00</td>\n",
              "      <td>0.00</td>\n",
              "      <td>0.00</td>\n",
              "      <td>1.00</td>\n",
              "      <td>...</td>\n",
              "      <td>0.00</td>\n",
              "      <td>0.00</td>\n",
              "      <td>0.00</td>\n",
              "      <td>0.00</td>\n",
              "      <td>0.00</td>\n",
              "      <td>0.00</td>\n",
              "      <td>0.00</td>\n",
              "      <td>0.00</td>\n",
              "      <td>0.00</td>\n",
              "      <td>16.06</td>\n",
              "    </tr>\n",
              "    <tr>\n",
              "      <th>25%</th>\n",
              "      <td>0.00</td>\n",
              "      <td>0.00</td>\n",
              "      <td>0.00</td>\n",
              "      <td>0.00</td>\n",
              "      <td>0.00</td>\n",
              "      <td>0.00</td>\n",
              "      <td>0.00</td>\n",
              "      <td>0.00</td>\n",
              "      <td>0.00</td>\n",
              "      <td>1.00</td>\n",
              "      <td>...</td>\n",
              "      <td>0.00</td>\n",
              "      <td>2.59</td>\n",
              "      <td>4.17</td>\n",
              "      <td>0.00</td>\n",
              "      <td>2.02</td>\n",
              "      <td>1.59</td>\n",
              "      <td>2.93</td>\n",
              "      <td>3.70</td>\n",
              "      <td>3.72</td>\n",
              "      <td>41.03</td>\n",
              "    </tr>\n",
              "    <tr>\n",
              "      <th>50%</th>\n",
              "      <td>0.00</td>\n",
              "      <td>0.00</td>\n",
              "      <td>0.00</td>\n",
              "      <td>0.00</td>\n",
              "      <td>0.00</td>\n",
              "      <td>0.00</td>\n",
              "      <td>0.00</td>\n",
              "      <td>0.00</td>\n",
              "      <td>0.00</td>\n",
              "      <td>2.00</td>\n",
              "      <td>...</td>\n",
              "      <td>1.03</td>\n",
              "      <td>4.94</td>\n",
              "      <td>5.00</td>\n",
              "      <td>2.59</td>\n",
              "      <td>4.43</td>\n",
              "      <td>4.83</td>\n",
              "      <td>6.23</td>\n",
              "      <td>6.41</td>\n",
              "      <td>6.86</td>\n",
              "      <td>49.51</td>\n",
              "    </tr>\n",
              "    <tr>\n",
              "      <th>75%</th>\n",
              "      <td>0.00</td>\n",
              "      <td>0.00</td>\n",
              "      <td>1.00</td>\n",
              "      <td>1.00</td>\n",
              "      <td>0.00</td>\n",
              "      <td>0.00</td>\n",
              "      <td>0.00</td>\n",
              "      <td>0.00</td>\n",
              "      <td>0.00</td>\n",
              "      <td>2.00</td>\n",
              "      <td>...</td>\n",
              "      <td>3.41</td>\n",
              "      <td>5.00</td>\n",
              "      <td>5.00</td>\n",
              "      <td>5.00</td>\n",
              "      <td>7.27</td>\n",
              "      <td>7.65</td>\n",
              "      <td>9.25</td>\n",
              "      <td>9.00</td>\n",
              "      <td>9.45</td>\n",
              "      <td>58.17</td>\n",
              "    </tr>\n",
              "    <tr>\n",
              "      <th>95%</th>\n",
              "      <td>2.00</td>\n",
              "      <td>2.00</td>\n",
              "      <td>3.00</td>\n",
              "      <td>3.00</td>\n",
              "      <td>2.00</td>\n",
              "      <td>1.00</td>\n",
              "      <td>1.00</td>\n",
              "      <td>1.00</td>\n",
              "      <td>0.00</td>\n",
              "      <td>2.00</td>\n",
              "      <td>...</td>\n",
              "      <td>5.00</td>\n",
              "      <td>5.00</td>\n",
              "      <td>5.00</td>\n",
              "      <td>5.00</td>\n",
              "      <td>10.00</td>\n",
              "      <td>10.00</td>\n",
              "      <td>10.00</td>\n",
              "      <td>10.00</td>\n",
              "      <td>10.00</td>\n",
              "      <td>71.19</td>\n",
              "    </tr>\n",
              "    <tr>\n",
              "      <th>99%</th>\n",
              "      <td>3.00</td>\n",
              "      <td>3.00</td>\n",
              "      <td>3.00</td>\n",
              "      <td>3.00</td>\n",
              "      <td>3.00</td>\n",
              "      <td>3.00</td>\n",
              "      <td>3.00</td>\n",
              "      <td>3.00</td>\n",
              "      <td>1.00</td>\n",
              "      <td>2.00</td>\n",
              "      <td>...</td>\n",
              "      <td>5.00</td>\n",
              "      <td>5.00</td>\n",
              "      <td>5.00</td>\n",
              "      <td>5.00</td>\n",
              "      <td>10.00</td>\n",
              "      <td>10.00</td>\n",
              "      <td>10.00</td>\n",
              "      <td>10.00</td>\n",
              "      <td>10.00</td>\n",
              "      <td>79.86</td>\n",
              "    </tr>\n",
              "    <tr>\n",
              "      <th>max</th>\n",
              "      <td>9.00</td>\n",
              "      <td>9.00</td>\n",
              "      <td>9.00</td>\n",
              "      <td>9.00</td>\n",
              "      <td>9.00</td>\n",
              "      <td>9.00</td>\n",
              "      <td>9.00</td>\n",
              "      <td>9.00</td>\n",
              "      <td>9.00</td>\n",
              "      <td>2.00</td>\n",
              "      <td>...</td>\n",
              "      <td>5.00</td>\n",
              "      <td>5.00</td>\n",
              "      <td>5.00</td>\n",
              "      <td>5.00</td>\n",
              "      <td>10.00</td>\n",
              "      <td>10.00</td>\n",
              "      <td>10.00</td>\n",
              "      <td>10.00</td>\n",
              "      <td>10.00</td>\n",
              "      <td>89.53</td>\n",
              "    </tr>\n",
              "  </tbody>\n",
              "</table>\n",
              "<p>10 rows × 30 columns</p>\n",
              "</div>\n",
              "      <button class=\"colab-df-convert\" onclick=\"convertToInteractive('df-41a0a715-ad76-4e08-8da3-5e589916e2fa')\"\n",
              "              title=\"Convert this dataframe to an interactive table.\"\n",
              "              style=\"display:none;\">\n",
              "        \n",
              "  <svg xmlns=\"http://www.w3.org/2000/svg\" height=\"24px\"viewBox=\"0 0 24 24\"\n",
              "       width=\"24px\">\n",
              "    <path d=\"M0 0h24v24H0V0z\" fill=\"none\"/>\n",
              "    <path d=\"M18.56 5.44l.94 2.06.94-2.06 2.06-.94-2.06-.94-.94-2.06-.94 2.06-2.06.94zm-11 1L8.5 8.5l.94-2.06 2.06-.94-2.06-.94L8.5 2.5l-.94 2.06-2.06.94zm10 10l.94 2.06.94-2.06 2.06-.94-2.06-.94-.94-2.06-.94 2.06-2.06.94z\"/><path d=\"M17.41 7.96l-1.37-1.37c-.4-.4-.92-.59-1.43-.59-.52 0-1.04.2-1.43.59L10.3 9.45l-7.72 7.72c-.78.78-.78 2.05 0 2.83L4 21.41c.39.39.9.59 1.41.59.51 0 1.02-.2 1.41-.59l7.78-7.78 2.81-2.81c.8-.78.8-2.07 0-2.86zM5.41 20L4 18.59l7.72-7.72 1.47 1.35L5.41 20z\"/>\n",
              "  </svg>\n",
              "      </button>\n",
              "      \n",
              "  <style>\n",
              "    .colab-df-container {\n",
              "      display:flex;\n",
              "      flex-wrap:wrap;\n",
              "      gap: 12px;\n",
              "    }\n",
              "\n",
              "    .colab-df-convert {\n",
              "      background-color: #E8F0FE;\n",
              "      border: none;\n",
              "      border-radius: 50%;\n",
              "      cursor: pointer;\n",
              "      display: none;\n",
              "      fill: #1967D2;\n",
              "      height: 32px;\n",
              "      padding: 0 0 0 0;\n",
              "      width: 32px;\n",
              "    }\n",
              "\n",
              "    .colab-df-convert:hover {\n",
              "      background-color: #E2EBFA;\n",
              "      box-shadow: 0px 1px 2px rgba(60, 64, 67, 0.3), 0px 1px 3px 1px rgba(60, 64, 67, 0.15);\n",
              "      fill: #174EA6;\n",
              "    }\n",
              "\n",
              "    [theme=dark] .colab-df-convert {\n",
              "      background-color: #3B4455;\n",
              "      fill: #D2E3FC;\n",
              "    }\n",
              "\n",
              "    [theme=dark] .colab-df-convert:hover {\n",
              "      background-color: #434B5C;\n",
              "      box-shadow: 0px 1px 3px 1px rgba(0, 0, 0, 0.15);\n",
              "      filter: drop-shadow(0px 1px 2px rgba(0, 0, 0, 0.3));\n",
              "      fill: #FFFFFF;\n",
              "    }\n",
              "  </style>\n",
              "\n",
              "      <script>\n",
              "        const buttonEl =\n",
              "          document.querySelector('#df-41a0a715-ad76-4e08-8da3-5e589916e2fa button.colab-df-convert');\n",
              "        buttonEl.style.display =\n",
              "          google.colab.kernel.accessAllowed ? 'block' : 'none';\n",
              "\n",
              "        async function convertToInteractive(key) {\n",
              "          const element = document.querySelector('#df-41a0a715-ad76-4e08-8da3-5e589916e2fa');\n",
              "          const dataTable =\n",
              "            await google.colab.kernel.invokeFunction('convertToInteractive',\n",
              "                                                     [key], {});\n",
              "          if (!dataTable) return;\n",
              "\n",
              "          const docLinkHtml = 'Like what you see? Visit the ' +\n",
              "            '<a target=\"_blank\" href=https://colab.research.google.com/notebooks/data_table.ipynb>data table notebook</a>'\n",
              "            + ' to learn more about interactive tables.';\n",
              "          element.innerHTML = '';\n",
              "          dataTable['output_type'] = 'display_data';\n",
              "          await google.colab.output.renderOutput(dataTable, element);\n",
              "          const docLink = document.createElement('div');\n",
              "          docLink.innerHTML = docLinkHtml;\n",
              "          element.appendChild(docLink);\n",
              "        }\n",
              "      </script>\n",
              "    </div>\n",
              "  </div>\n",
              "  "
            ]
          },
          "metadata": {},
          "execution_count": 10
        }
      ]
    },
    {
      "cell_type": "markdown",
      "source": [
        "Avaliando frequências das variáveis qualitativas:"
      ],
      "metadata": {
        "id": "Edd2Ku24Y1eA"
      }
    },
    {
      "cell_type": "markdown",
      "source": [
        "Distribuição dos escores para PHQ9"
      ],
      "metadata": {
        "id": "OF04sHemY1iz"
      }
    },
    {
      "cell_type": "code",
      "source": [
        "#frequências \n",
        "# 0 = “nenhuma vez” \n",
        "# 1 = “menos de uma semana”\n",
        "# 2 = “uma semana ou mais” \n",
        "# 3 = “quase todos os dias”\n",
        "\n",
        "#DataFrame.agg([contar quantas vezes aparece])\n",
        "\n",
        "db[[\n",
        "\"DPQ010\",\n",
        "\"DPQ020\",\n",
        "\"DPQ030\",\n",
        "\"DPQ040\",\n",
        "\"DPQ050\",\n",
        "\"DPQ060\",\n",
        "\"DPQ070\",\n",
        "\"DPQ080\",\n",
        "\"DPQ090\"]].agg(['value_counts'])"
      ],
      "metadata": {
        "colab": {
          "base_uri": "https://localhost:8080/",
          "height": 238
        },
        "id": "R0CfkWS8Y7Qg",
        "outputId": "86432a0b-f5b0-4582-8079-a1f7488d7983"
      },
      "execution_count": 11,
      "outputs": [
        {
          "output_type": "execute_result",
          "data": {
            "text/plain": [
              "          DPQ010       DPQ020       DPQ030       DPQ040       DPQ050  \\\n",
              "    value_counts value_counts value_counts value_counts value_counts   \n",
              "0.0         3850         3769         3152         2429         3813   \n",
              "1.0          673          769         1071         1706          691   \n",
              "2.0          180          179          286          370          160   \n",
              "3.0          124          114          320          326          168   \n",
              "9.0            9            5            7            5            4   \n",
              "\n",
              "          DPQ060       DPQ070       DPQ080       DPQ090  \n",
              "    value_counts value_counts value_counts value_counts  \n",
              "0.0         4134         4070         4362         4667  \n",
              "1.0          513          545          341          122  \n",
              "2.0           95          118           79           32  \n",
              "3.0           89           99           45           13  \n",
              "9.0            5            4            9            2  "
            ],
            "text/html": [
              "\n",
              "  <div id=\"df-4eba7541-bcfc-4232-ae42-69121c586436\">\n",
              "    <div class=\"colab-df-container\">\n",
              "      <div>\n",
              "<style scoped>\n",
              "    .dataframe tbody tr th:only-of-type {\n",
              "        vertical-align: middle;\n",
              "    }\n",
              "\n",
              "    .dataframe tbody tr th {\n",
              "        vertical-align: top;\n",
              "    }\n",
              "\n",
              "    .dataframe thead tr th {\n",
              "        text-align: left;\n",
              "    }\n",
              "</style>\n",
              "<table border=\"1\" class=\"dataframe\">\n",
              "  <thead>\n",
              "    <tr>\n",
              "      <th></th>\n",
              "      <th>DPQ010</th>\n",
              "      <th>DPQ020</th>\n",
              "      <th>DPQ030</th>\n",
              "      <th>DPQ040</th>\n",
              "      <th>DPQ050</th>\n",
              "      <th>DPQ060</th>\n",
              "      <th>DPQ070</th>\n",
              "      <th>DPQ080</th>\n",
              "      <th>DPQ090</th>\n",
              "    </tr>\n",
              "    <tr>\n",
              "      <th></th>\n",
              "      <th>value_counts</th>\n",
              "      <th>value_counts</th>\n",
              "      <th>value_counts</th>\n",
              "      <th>value_counts</th>\n",
              "      <th>value_counts</th>\n",
              "      <th>value_counts</th>\n",
              "      <th>value_counts</th>\n",
              "      <th>value_counts</th>\n",
              "      <th>value_counts</th>\n",
              "    </tr>\n",
              "  </thead>\n",
              "  <tbody>\n",
              "    <tr>\n",
              "      <th>0.0</th>\n",
              "      <td>3850</td>\n",
              "      <td>3769</td>\n",
              "      <td>3152</td>\n",
              "      <td>2429</td>\n",
              "      <td>3813</td>\n",
              "      <td>4134</td>\n",
              "      <td>4070</td>\n",
              "      <td>4362</td>\n",
              "      <td>4667</td>\n",
              "    </tr>\n",
              "    <tr>\n",
              "      <th>1.0</th>\n",
              "      <td>673</td>\n",
              "      <td>769</td>\n",
              "      <td>1071</td>\n",
              "      <td>1706</td>\n",
              "      <td>691</td>\n",
              "      <td>513</td>\n",
              "      <td>545</td>\n",
              "      <td>341</td>\n",
              "      <td>122</td>\n",
              "    </tr>\n",
              "    <tr>\n",
              "      <th>2.0</th>\n",
              "      <td>180</td>\n",
              "      <td>179</td>\n",
              "      <td>286</td>\n",
              "      <td>370</td>\n",
              "      <td>160</td>\n",
              "      <td>95</td>\n",
              "      <td>118</td>\n",
              "      <td>79</td>\n",
              "      <td>32</td>\n",
              "    </tr>\n",
              "    <tr>\n",
              "      <th>3.0</th>\n",
              "      <td>124</td>\n",
              "      <td>114</td>\n",
              "      <td>320</td>\n",
              "      <td>326</td>\n",
              "      <td>168</td>\n",
              "      <td>89</td>\n",
              "      <td>99</td>\n",
              "      <td>45</td>\n",
              "      <td>13</td>\n",
              "    </tr>\n",
              "    <tr>\n",
              "      <th>9.0</th>\n",
              "      <td>9</td>\n",
              "      <td>5</td>\n",
              "      <td>7</td>\n",
              "      <td>5</td>\n",
              "      <td>4</td>\n",
              "      <td>5</td>\n",
              "      <td>4</td>\n",
              "      <td>9</td>\n",
              "      <td>2</td>\n",
              "    </tr>\n",
              "  </tbody>\n",
              "</table>\n",
              "</div>\n",
              "      <button class=\"colab-df-convert\" onclick=\"convertToInteractive('df-4eba7541-bcfc-4232-ae42-69121c586436')\"\n",
              "              title=\"Convert this dataframe to an interactive table.\"\n",
              "              style=\"display:none;\">\n",
              "        \n",
              "  <svg xmlns=\"http://www.w3.org/2000/svg\" height=\"24px\"viewBox=\"0 0 24 24\"\n",
              "       width=\"24px\">\n",
              "    <path d=\"M0 0h24v24H0V0z\" fill=\"none\"/>\n",
              "    <path d=\"M18.56 5.44l.94 2.06.94-2.06 2.06-.94-2.06-.94-.94-2.06-.94 2.06-2.06.94zm-11 1L8.5 8.5l.94-2.06 2.06-.94-2.06-.94L8.5 2.5l-.94 2.06-2.06.94zm10 10l.94 2.06.94-2.06 2.06-.94-2.06-.94-.94-2.06-.94 2.06-2.06.94z\"/><path d=\"M17.41 7.96l-1.37-1.37c-.4-.4-.92-.59-1.43-.59-.52 0-1.04.2-1.43.59L10.3 9.45l-7.72 7.72c-.78.78-.78 2.05 0 2.83L4 21.41c.39.39.9.59 1.41.59.51 0 1.02-.2 1.41-.59l7.78-7.78 2.81-2.81c.8-.78.8-2.07 0-2.86zM5.41 20L4 18.59l7.72-7.72 1.47 1.35L5.41 20z\"/>\n",
              "  </svg>\n",
              "      </button>\n",
              "      \n",
              "  <style>\n",
              "    .colab-df-container {\n",
              "      display:flex;\n",
              "      flex-wrap:wrap;\n",
              "      gap: 12px;\n",
              "    }\n",
              "\n",
              "    .colab-df-convert {\n",
              "      background-color: #E8F0FE;\n",
              "      border: none;\n",
              "      border-radius: 50%;\n",
              "      cursor: pointer;\n",
              "      display: none;\n",
              "      fill: #1967D2;\n",
              "      height: 32px;\n",
              "      padding: 0 0 0 0;\n",
              "      width: 32px;\n",
              "    }\n",
              "\n",
              "    .colab-df-convert:hover {\n",
              "      background-color: #E2EBFA;\n",
              "      box-shadow: 0px 1px 2px rgba(60, 64, 67, 0.3), 0px 1px 3px 1px rgba(60, 64, 67, 0.15);\n",
              "      fill: #174EA6;\n",
              "    }\n",
              "\n",
              "    [theme=dark] .colab-df-convert {\n",
              "      background-color: #3B4455;\n",
              "      fill: #D2E3FC;\n",
              "    }\n",
              "\n",
              "    [theme=dark] .colab-df-convert:hover {\n",
              "      background-color: #434B5C;\n",
              "      box-shadow: 0px 1px 3px 1px rgba(0, 0, 0, 0.15);\n",
              "      filter: drop-shadow(0px 1px 2px rgba(0, 0, 0, 0.3));\n",
              "      fill: #FFFFFF;\n",
              "    }\n",
              "  </style>\n",
              "\n",
              "      <script>\n",
              "        const buttonEl =\n",
              "          document.querySelector('#df-4eba7541-bcfc-4232-ae42-69121c586436 button.colab-df-convert');\n",
              "        buttonEl.style.display =\n",
              "          google.colab.kernel.accessAllowed ? 'block' : 'none';\n",
              "\n",
              "        async function convertToInteractive(key) {\n",
              "          const element = document.querySelector('#df-4eba7541-bcfc-4232-ae42-69121c586436');\n",
              "          const dataTable =\n",
              "            await google.colab.kernel.invokeFunction('convertToInteractive',\n",
              "                                                     [key], {});\n",
              "          if (!dataTable) return;\n",
              "\n",
              "          const docLinkHtml = 'Like what you see? Visit the ' +\n",
              "            '<a target=\"_blank\" href=https://colab.research.google.com/notebooks/data_table.ipynb>data table notebook</a>'\n",
              "            + ' to learn more about interactive tables.';\n",
              "          element.innerHTML = '';\n",
              "          dataTable['output_type'] = 'display_data';\n",
              "          await google.colab.output.renderOutput(dataTable, element);\n",
              "          const docLink = document.createElement('div');\n",
              "          docLink.innerHTML = docLinkHtml;\n",
              "          element.appendChild(docLink);\n",
              "        }\n",
              "      </script>\n",
              "    </div>\n",
              "  </div>\n",
              "  "
            ]
          },
          "metadata": {},
          "execution_count": 11
        }
      ]
    },
    {
      "cell_type": "markdown",
      "source": [
        "Distribuição de raça:"
      ],
      "metadata": {
        "id": "SA9tmDx6aC_h"
      }
    },
    {
      "cell_type": "code",
      "source": [
        "# RIDRETH1 com códigos errados no desafio\n",
        "# 1\tMexican American\t\n",
        "# 2\tOther Hispanic\n",
        "# 3\tNon-Hispanic White\t\n",
        "# 4\tNon-Hispanic Black\t\n",
        "# 5\tOther Race - Including Multi-Racial\n",
        "\n",
        "#oBS: Há poucos valores no 2 e 5; motivo que serão agregados. \n",
        "db[[\"RIDRETH1\"]].value_counts(sort = False)\n",
        "\n"
      ],
      "metadata": {
        "colab": {
          "base_uri": "https://localhost:8080/"
        },
        "id": "rVFPPwedZ9NP",
        "outputId": "b96afd56-e947-4d41-b1f0-4582ae848f05"
      },
      "execution_count": 12,
      "outputs": [
        {
          "output_type": "execute_result",
          "data": {
            "text/plain": [
              "RIDRETH1\n",
              "1           1133\n",
              "2            164\n",
              "3           2516\n",
              "4           1300\n",
              "5            221\n",
              "dtype: int64"
            ]
          },
          "metadata": {},
          "execution_count": 12
        }
      ]
    },
    {
      "cell_type": "markdown",
      "source": [
        "Distribuição de escolaridade:"
      ],
      "metadata": {
        "id": "ZnkEKivdaS5g"
      }
    },
    {
      "cell_type": "code",
      "source": [
        "# 1 = Menor que 9o ano\n",
        "# 2 = 9-12o ano\n",
        "# 3 = Ensino médio\n",
        "# 4 = Ensino superior incompleto\n",
        "# 5 = Superior completo ou maior\n",
        "# 7 = Se recusou a responder\n",
        "# 9 = Não sabe\n",
        "\n",
        "db[[\"DMDEDUC\"]].value_counts(sort = False)"
      ],
      "metadata": {
        "colab": {
          "base_uri": "https://localhost:8080/"
        },
        "id": "i48XGMMUZvhS",
        "outputId": "b35fb9ae-ea98-4bca-b885-3db21b7de128"
      },
      "execution_count": 13,
      "outputs": [
        {
          "output_type": "execute_result",
          "data": {
            "text/plain": [
              "DMDEDUC\n",
              "1           618\n",
              "2           936\n",
              "3          1335\n",
              "4          1498\n",
              "5           939\n",
              "7             4\n",
              "9             4\n",
              "dtype: int64"
            ]
          },
          "metadata": {},
          "execution_count": 13
        }
      ]
    },
    {
      "cell_type": "markdown",
      "source": [
        "Distribuição de renda:"
      ],
      "metadata": {
        "id": "NDF7sHuWa3yn"
      }
    },
    {
      "cell_type": "code",
      "source": [
        "# \"INDFMINC\" = Renda anual familiar (US$). \n",
        "# O salário mínimo EUA é definido por hora. Em 2006, 40 horas semanais equivaleriam aprox.$900,00 mês; e $11 mil anual.\n",
        "\n",
        "#Conforme dicionário já veio divido em classes:\n",
        "# 1 = 0-4999\n",
        "# 2 - 5000-9999\n",
        "# 3 = 10000-14999 # próximo ao mínimo(40 horas semanais).\n",
        "# 4 = 15000-19999\n",
        "# 5 = 20000-24999\n",
        "# 6 = 25000-34999\n",
        "# 7 = 35000-44999\n",
        "# 8 = 45000-54999\n",
        "# 9 = 55000-64999\n",
        "# 10 = 65000-74999  \n",
        "# 11 = Maior ou igual a 75000\n",
        "# 12 = Maior que 20000\n",
        "# 13 = Menor que 20000\n",
        "# 77 = Se recusou a responder\n",
        "# 99 = Não sabe\n",
        "\n",
        "db[[\"INDFMINC\"]].value_counts(sort = False)"
      ],
      "metadata": {
        "colab": {
          "base_uri": "https://localhost:8080/"
        },
        "id": "Ol6D9wLwa2ni",
        "outputId": "2b569f70-966e-452c-e317-ed9dab0860c6"
      },
      "execution_count": 14,
      "outputs": [
        {
          "output_type": "execute_result",
          "data": {
            "text/plain": [
              "INDFMINC\n",
              "1.0          190\n",
              "2.0          281\n",
              "3.0          440\n",
              "4.0          412\n",
              "5.0          426\n",
              "6.0          678\n",
              "7.0          535\n",
              "8.0          485\n",
              "9.0          297\n",
              "10.0         278\n",
              "11.0        1044\n",
              "12.0          78\n",
              "13.0          30\n",
              "77.0          36\n",
              "99.0          77\n",
              "dtype: int64"
            ]
          },
          "metadata": {},
          "execution_count": 14
        }
      ]
    },
    {
      "cell_type": "markdown",
      "source": [
        "Distribuição de grupo de aderência:"
      ],
      "metadata": {
        "id": "2RspfaM2a8zB"
      }
    },
    {
      "cell_type": "code",
      "source": [
        "#ADHERENCE - Grupo de aderência ao Physical Activity Guideline (PAG)\n",
        "# Frequência de prática de atividade física. \n",
        "\n",
        "# 1 = Baixo (< 150 min/semana)\n",
        "# 2 = Adequado (150-300 min/semana)\n",
        "# 3 = Acima (> 300 min/semana)\n",
        "\n",
        "db[[\"ADHERENCE\"]].value_counts(sort = False)"
      ],
      "metadata": {
        "colab": {
          "base_uri": "https://localhost:8080/"
        },
        "id": "4qnijCAgbABQ",
        "outputId": "cec6e22a-910c-4913-c7bb-c5a779c78107"
      },
      "execution_count": 15,
      "outputs": [
        {
          "output_type": "execute_result",
          "data": {
            "text/plain": [
              "ADHERENCE\n",
              "1.0          2304\n",
              "2.0           834\n",
              "3.0          2196\n",
              "dtype: int64"
            ]
          },
          "metadata": {},
          "execution_count": 15
        }
      ]
    },
    {
      "cell_type": "code",
      "source": [
        "#7 = Se recusou a responder  e 9 = Não sabe - serão substituidos por np.nan. \n",
        "#RIDRETH1 Raça/Etnia  5 = Outro/Hispânico - será substituído por 4 = Outro\n",
        "#Recategorizando a variável INDFMINC com o ponto médio de cada categoria - objetivo: analisar como variável quantitativa\n",
        "\n",
        "replace_map = {\n",
        "  \"DPQ010\": {7: np.nan, 9: np.nan},\n",
        "  \"DPQ020\": {7: np.nan, 9: np.nan},\n",
        "  \"DPQ030\": {7: np.nan, 9: np.nan},\n",
        "  \"DPQ040\": {7: np.nan, 9: np.nan},\n",
        "  \"DPQ050\": {7: np.nan, 9: np.nan},\n",
        "  \"DPQ060\": {7: np.nan, 9: np.nan},\n",
        "  \"DPQ070\": {7: np.nan, 9: np.nan},\n",
        "  \"DPQ080\": {7: np.nan, 9: np.nan},\n",
        "  \"DPQ090\": {7: np.nan, 9: np.nan},\n",
        "  \"DMDEDUC\": {7: np.nan, 9: np.nan},\n",
        "  \"RIDRETH1\": {5: 2}, # Other  (valor foi unido porque a distribuição individual era baixa se comparada aos outros)\n",
        "  \"INDFMINC\": {1: np.mean([0,4999]), \n",
        "               2: np.mean([5000,9999]), \n",
        "               3: np.mean([10000,14999]),\n",
        "               4: np.mean([15000,19999]),\n",
        "               5: np.mean([20000,24999]),\n",
        "               6: np.mean([25000,34999]), \n",
        "               7: np.mean([35000,44999]), \n",
        "               8: np.mean([45000,54999]),\n",
        "               9: np.mean([55000,64999]), \n",
        "               10: np.mean([65000,74999]), \n",
        "               11: 75000, # 11 = Maior ou igual a 75000\n",
        "               12: np.mean([20000, 90000]),  # 12 = Maior que 20000\n",
        "               13: np.mean([0, 19999]), # 13 = Menor que 20000\n",
        "               77: np.nan, 99: np.nan} \n",
        "}\n",
        "\n",
        "replace_map"
      ],
      "metadata": {
        "colab": {
          "base_uri": "https://localhost:8080/"
        },
        "id": "dP4j3fIpbhmh",
        "outputId": "b66fb9ac-2449-4d08-8fc6-77c89fe0013b"
      },
      "execution_count": 16,
      "outputs": [
        {
          "output_type": "execute_result",
          "data": {
            "text/plain": [
              "{'DPQ010': {7: nan, 9: nan},\n",
              " 'DPQ020': {7: nan, 9: nan},\n",
              " 'DPQ030': {7: nan, 9: nan},\n",
              " 'DPQ040': {7: nan, 9: nan},\n",
              " 'DPQ050': {7: nan, 9: nan},\n",
              " 'DPQ060': {7: nan, 9: nan},\n",
              " 'DPQ070': {7: nan, 9: nan},\n",
              " 'DPQ080': {7: nan, 9: nan},\n",
              " 'DPQ090': {7: nan, 9: nan},\n",
              " 'DMDEDUC': {7: nan, 9: nan},\n",
              " 'RIDRETH1': {5: 2},\n",
              " 'INDFMINC': {1: 2499.5,\n",
              "  2: 7499.5,\n",
              "  3: 12499.5,\n",
              "  4: 17499.5,\n",
              "  5: 22499.5,\n",
              "  6: 29999.5,\n",
              "  7: 39999.5,\n",
              "  8: 49999.5,\n",
              "  9: 59999.5,\n",
              "  10: 69999.5,\n",
              "  11: 75000,\n",
              "  12: 55000.0,\n",
              "  13: 9999.5,\n",
              "  77: nan,\n",
              "  99: nan}}"
            ]
          },
          "metadata": {},
          "execution_count": 16
        }
      ]
    },
    {
      "cell_type": "code",
      "source": [
        "# Quando dict é usado como o valor to_replace, é como se as chaves no dict fossem a parte to_replace e os valores no dict fossem o parâmetro value.\n",
        "# Foi criado nova variável com as transformações \"db2\".\n",
        "db2 = db.replace(replace_map)"
      ],
      "metadata": {
        "id": "02HrdXCkbtfC"
      },
      "execution_count": 17,
      "outputs": []
    },
    {
      "cell_type": "markdown",
      "source": [
        "### Construção das variáveis"
      ],
      "metadata": {
        "id": "QQBgiF0KhHG7"
      }
    },
    {
      "cell_type": "markdown",
      "source": [
        "Checando casos faltantes para as variáveis do phq9:"
      ],
      "metadata": {
        "id": "xOwF54QMhIlI"
      }
    },
    {
      "cell_type": "code",
      "source": [
        "#faltantes representam menos de 10%.\n",
        "\n",
        "db2[[\"DPQ010\", \n",
        "     \"DPQ020\", \n",
        "     \"DPQ030\", \n",
        "     \"DPQ040\",\n",
        "     \"DPQ050\", \n",
        "     \"DPQ060\", \n",
        "     \"DPQ070\", \n",
        "     \"DPQ080\", \n",
        "     \"DPQ090\"]].isnull().mean()"
      ],
      "metadata": {
        "colab": {
          "base_uri": "https://localhost:8080/"
        },
        "id": "tZmuN3JVhLSO",
        "outputId": "d93df5f5-bf20-48c5-d0ca-23ff4e00d6e6"
      },
      "execution_count": 18,
      "outputs": [
        {
          "output_type": "execute_result",
          "data": {
            "text/plain": [
              "DPQ010    0.095051\n",
              "DPQ020    0.094301\n",
              "DPQ030    0.094676\n",
              "DPQ040    0.094301\n",
              "DPQ050    0.094113\n",
              "DPQ060    0.094301\n",
              "DPQ070    0.094113\n",
              "DPQ080    0.095051\n",
              "DPQ090    0.093738\n",
              "dtype: float64"
            ]
          },
          "metadata": {},
          "execution_count": 18
        }
      ]
    },
    {
      "cell_type": "markdown",
      "source": [
        "Construindo variável phq9:"
      ],
      "metadata": {
        "id": "kUYO8awhha45"
      }
    },
    {
      "cell_type": "code",
      "source": [
        "#Crio uma nova coluna de nome \"phq9\" no dataframe 'db2'.\n",
        "# Essa nova coluna é o somatário das colunas 010 a 090. \n",
        "# o Default do pandas.DataFrame.sum é skipna : boolean, default True; isto é, Exclua os valores NA/nulos.  \n",
        "# No somatório dos valores das colunas, se uma linha/coluna inteira for NA, o resultado será NA. \n",
        "# Como há menos de 10%, os NAs serão mantidos. \n",
        "\n",
        "db2[\"phq9\"] = db2[[\"DPQ010\", \n",
        "                   \"DPQ020\", \n",
        "                   \"DPQ030\", \n",
        "                   \"DPQ040\", \n",
        "                   \"DPQ050\", \n",
        "                   \"DPQ060\", \n",
        "                   \"DPQ070\", \n",
        "                   \"DPQ080\", \n",
        "                   \"DPQ090\"]].sum(axis = 'columns', skipna = False)\n",
        "\n",
        "db2[\"phq9\"]"
      ],
      "metadata": {
        "colab": {
          "base_uri": "https://localhost:8080/"
        },
        "id": "Xsi3vXTXhaLQ",
        "outputId": "196fe718-7424-4719-de8a-8463ede12b65"
      },
      "execution_count": 19,
      "outputs": [
        {
          "output_type": "execute_result",
          "data": {
            "text/plain": [
              "0        NaN\n",
              "1        0.0\n",
              "2        0.0\n",
              "3        0.0\n",
              "4        4.0\n",
              "        ... \n",
              "5329     2.0\n",
              "5330    10.0\n",
              "5331     2.0\n",
              "5332     0.0\n",
              "5333     4.0\n",
              "Name: phq9, Length: 5334, dtype: float64"
            ]
          },
          "metadata": {},
          "execution_count": 19
        }
      ]
    },
    {
      "cell_type": "code",
      "source": [
        "db2[[\"DPQ010\", \n",
        "     \"DPQ020\", \n",
        "     \"DPQ030\", \n",
        "     \"DPQ040\",\n",
        "     \"DPQ050\", \n",
        "     \"DPQ060\", \n",
        "     \"DPQ070\", \n",
        "     \"DPQ080\", \n",
        "     \"DPQ090\",\n",
        "     \"phq9\"]].head()"
      ],
      "metadata": {
        "colab": {
          "base_uri": "https://localhost:8080/",
          "height": 206
        },
        "id": "e8v8xzDFhsKw",
        "outputId": "ce9fd69a-fc9d-46b5-e309-3ec96230d53d"
      },
      "execution_count": 20,
      "outputs": [
        {
          "output_type": "execute_result",
          "data": {
            "text/plain": [
              "   DPQ010  DPQ020  DPQ030  DPQ040  DPQ050  DPQ060  DPQ070  DPQ080  DPQ090  \\\n",
              "0     NaN     NaN     NaN     NaN     NaN     NaN     NaN     NaN     NaN   \n",
              "1     0.0     0.0     0.0     0.0     0.0     0.0     0.0     0.0     0.0   \n",
              "2     0.0     0.0     0.0     0.0     0.0     0.0     0.0     0.0     0.0   \n",
              "3     0.0     0.0     0.0     0.0     0.0     0.0     0.0     0.0     0.0   \n",
              "4     0.0     0.0     0.0     0.0     3.0     1.0     0.0     0.0     0.0   \n",
              "\n",
              "   phq9  \n",
              "0   NaN  \n",
              "1   0.0  \n",
              "2   0.0  \n",
              "3   0.0  \n",
              "4   4.0  "
            ],
            "text/html": [
              "\n",
              "  <div id=\"df-0075aac8-04bb-4651-b1d7-701f709ca0a2\">\n",
              "    <div class=\"colab-df-container\">\n",
              "      <div>\n",
              "<style scoped>\n",
              "    .dataframe tbody tr th:only-of-type {\n",
              "        vertical-align: middle;\n",
              "    }\n",
              "\n",
              "    .dataframe tbody tr th {\n",
              "        vertical-align: top;\n",
              "    }\n",
              "\n",
              "    .dataframe thead th {\n",
              "        text-align: right;\n",
              "    }\n",
              "</style>\n",
              "<table border=\"1\" class=\"dataframe\">\n",
              "  <thead>\n",
              "    <tr style=\"text-align: right;\">\n",
              "      <th></th>\n",
              "      <th>DPQ010</th>\n",
              "      <th>DPQ020</th>\n",
              "      <th>DPQ030</th>\n",
              "      <th>DPQ040</th>\n",
              "      <th>DPQ050</th>\n",
              "      <th>DPQ060</th>\n",
              "      <th>DPQ070</th>\n",
              "      <th>DPQ080</th>\n",
              "      <th>DPQ090</th>\n",
              "      <th>phq9</th>\n",
              "    </tr>\n",
              "  </thead>\n",
              "  <tbody>\n",
              "    <tr>\n",
              "      <th>0</th>\n",
              "      <td>NaN</td>\n",
              "      <td>NaN</td>\n",
              "      <td>NaN</td>\n",
              "      <td>NaN</td>\n",
              "      <td>NaN</td>\n",
              "      <td>NaN</td>\n",
              "      <td>NaN</td>\n",
              "      <td>NaN</td>\n",
              "      <td>NaN</td>\n",
              "      <td>NaN</td>\n",
              "    </tr>\n",
              "    <tr>\n",
              "      <th>1</th>\n",
              "      <td>0.0</td>\n",
              "      <td>0.0</td>\n",
              "      <td>0.0</td>\n",
              "      <td>0.0</td>\n",
              "      <td>0.0</td>\n",
              "      <td>0.0</td>\n",
              "      <td>0.0</td>\n",
              "      <td>0.0</td>\n",
              "      <td>0.0</td>\n",
              "      <td>0.0</td>\n",
              "    </tr>\n",
              "    <tr>\n",
              "      <th>2</th>\n",
              "      <td>0.0</td>\n",
              "      <td>0.0</td>\n",
              "      <td>0.0</td>\n",
              "      <td>0.0</td>\n",
              "      <td>0.0</td>\n",
              "      <td>0.0</td>\n",
              "      <td>0.0</td>\n",
              "      <td>0.0</td>\n",
              "      <td>0.0</td>\n",
              "      <td>0.0</td>\n",
              "    </tr>\n",
              "    <tr>\n",
              "      <th>3</th>\n",
              "      <td>0.0</td>\n",
              "      <td>0.0</td>\n",
              "      <td>0.0</td>\n",
              "      <td>0.0</td>\n",
              "      <td>0.0</td>\n",
              "      <td>0.0</td>\n",
              "      <td>0.0</td>\n",
              "      <td>0.0</td>\n",
              "      <td>0.0</td>\n",
              "      <td>0.0</td>\n",
              "    </tr>\n",
              "    <tr>\n",
              "      <th>4</th>\n",
              "      <td>0.0</td>\n",
              "      <td>0.0</td>\n",
              "      <td>0.0</td>\n",
              "      <td>0.0</td>\n",
              "      <td>3.0</td>\n",
              "      <td>1.0</td>\n",
              "      <td>0.0</td>\n",
              "      <td>0.0</td>\n",
              "      <td>0.0</td>\n",
              "      <td>4.0</td>\n",
              "    </tr>\n",
              "  </tbody>\n",
              "</table>\n",
              "</div>\n",
              "      <button class=\"colab-df-convert\" onclick=\"convertToInteractive('df-0075aac8-04bb-4651-b1d7-701f709ca0a2')\"\n",
              "              title=\"Convert this dataframe to an interactive table.\"\n",
              "              style=\"display:none;\">\n",
              "        \n",
              "  <svg xmlns=\"http://www.w3.org/2000/svg\" height=\"24px\"viewBox=\"0 0 24 24\"\n",
              "       width=\"24px\">\n",
              "    <path d=\"M0 0h24v24H0V0z\" fill=\"none\"/>\n",
              "    <path d=\"M18.56 5.44l.94 2.06.94-2.06 2.06-.94-2.06-.94-.94-2.06-.94 2.06-2.06.94zm-11 1L8.5 8.5l.94-2.06 2.06-.94-2.06-.94L8.5 2.5l-.94 2.06-2.06.94zm10 10l.94 2.06.94-2.06 2.06-.94-2.06-.94-.94-2.06-.94 2.06-2.06.94z\"/><path d=\"M17.41 7.96l-1.37-1.37c-.4-.4-.92-.59-1.43-.59-.52 0-1.04.2-1.43.59L10.3 9.45l-7.72 7.72c-.78.78-.78 2.05 0 2.83L4 21.41c.39.39.9.59 1.41.59.51 0 1.02-.2 1.41-.59l7.78-7.78 2.81-2.81c.8-.78.8-2.07 0-2.86zM5.41 20L4 18.59l7.72-7.72 1.47 1.35L5.41 20z\"/>\n",
              "  </svg>\n",
              "      </button>\n",
              "      \n",
              "  <style>\n",
              "    .colab-df-container {\n",
              "      display:flex;\n",
              "      flex-wrap:wrap;\n",
              "      gap: 12px;\n",
              "    }\n",
              "\n",
              "    .colab-df-convert {\n",
              "      background-color: #E8F0FE;\n",
              "      border: none;\n",
              "      border-radius: 50%;\n",
              "      cursor: pointer;\n",
              "      display: none;\n",
              "      fill: #1967D2;\n",
              "      height: 32px;\n",
              "      padding: 0 0 0 0;\n",
              "      width: 32px;\n",
              "    }\n",
              "\n",
              "    .colab-df-convert:hover {\n",
              "      background-color: #E2EBFA;\n",
              "      box-shadow: 0px 1px 2px rgba(60, 64, 67, 0.3), 0px 1px 3px 1px rgba(60, 64, 67, 0.15);\n",
              "      fill: #174EA6;\n",
              "    }\n",
              "\n",
              "    [theme=dark] .colab-df-convert {\n",
              "      background-color: #3B4455;\n",
              "      fill: #D2E3FC;\n",
              "    }\n",
              "\n",
              "    [theme=dark] .colab-df-convert:hover {\n",
              "      background-color: #434B5C;\n",
              "      box-shadow: 0px 1px 3px 1px rgba(0, 0, 0, 0.15);\n",
              "      filter: drop-shadow(0px 1px 2px rgba(0, 0, 0, 0.3));\n",
              "      fill: #FFFFFF;\n",
              "    }\n",
              "  </style>\n",
              "\n",
              "      <script>\n",
              "        const buttonEl =\n",
              "          document.querySelector('#df-0075aac8-04bb-4651-b1d7-701f709ca0a2 button.colab-df-convert');\n",
              "        buttonEl.style.display =\n",
              "          google.colab.kernel.accessAllowed ? 'block' : 'none';\n",
              "\n",
              "        async function convertToInteractive(key) {\n",
              "          const element = document.querySelector('#df-0075aac8-04bb-4651-b1d7-701f709ca0a2');\n",
              "          const dataTable =\n",
              "            await google.colab.kernel.invokeFunction('convertToInteractive',\n",
              "                                                     [key], {});\n",
              "          if (!dataTable) return;\n",
              "\n",
              "          const docLinkHtml = 'Like what you see? Visit the ' +\n",
              "            '<a target=\"_blank\" href=https://colab.research.google.com/notebooks/data_table.ipynb>data table notebook</a>'\n",
              "            + ' to learn more about interactive tables.';\n",
              "          element.innerHTML = '';\n",
              "          dataTable['output_type'] = 'display_data';\n",
              "          await google.colab.output.renderOutput(dataTable, element);\n",
              "          const docLink = document.createElement('div');\n",
              "          docLink.innerHTML = docLinkHtml;\n",
              "          element.appendChild(docLink);\n",
              "        }\n",
              "      </script>\n",
              "    </div>\n",
              "  </div>\n",
              "  "
            ]
          },
          "metadata": {},
          "execution_count": 20
        }
      ]
    },
    {
      "cell_type": "markdown",
      "source": [
        "Construindo variável phq_grp:"
      ],
      "metadata": {
        "id": "LUIlZAQRiziP"
      }
    },
    {
      "cell_type": "code",
      "source": [
        "# usando a biblioteca numpy as np\n",
        "# a variável phq_grp é uma transformação categorica ordinal \n",
        "# grupo de sintomas de depressão que assume:\n",
        "# 0 : (“sem sintomas”) se  phq9 < 5\n",
        "# 1 : (“sintomas leves”) se 5 <= phq9 < 10\n",
        "# 2 : (“sintomas moderados”) se 10 <= phq9 < 15\n",
        "# 3 : (“sintomas moderadamente severos”) se 15 <= phq9 < 19 \n",
        "# 4 : (“sintomas severos”) se phq9 >= 20\n",
        "\n",
        "conditions = [\n",
        "  (db2['phq9'].isna()),\n",
        "  (db2['phq9'] <= 5),\n",
        "  (db2['phq9'] > 5) & (db2['phq9'] <= 9),\n",
        "  (db2['phq9'] > 9) & (db2['phq9'] <= 14),\n",
        "  (db2['phq9'] > 14) & (db2['phq9'] <= 19),\n",
        "  (db2['phq9'] > 19)\n",
        "    ]\n",
        "values = [np.nan, 0, 1, 2, 3, 4]\n",
        "\n",
        "# em np.select, as duas listas precisam ter o mesmo tamanho\n",
        "db2[\"phq_grp\"] = np.select(conditions, values) # Construindo variável\n",
        "\n",
        "db2[[\"phq_grp\"]].value_counts(sort = False) # Avaliando frequência\n",
        "# .value_counts possui como dropnabool, default True; isto é \"Don’t include counts of NaN.\"\""
      ],
      "metadata": {
        "colab": {
          "base_uri": "https://localhost:8080/"
        },
        "id": "3XdwWNh6izIX",
        "outputId": "09a58d65-8806-4f5c-90b6-cc4480416047"
      },
      "execution_count": 21,
      "outputs": [
        {
          "output_type": "execute_result",
          "data": {
            "text/plain": [
              "phq_grp\n",
              "0.0        4013\n",
              "1.0         489\n",
              "2.0         201\n",
              "3.0          73\n",
              "4.0          23\n",
              "dtype: int64"
            ]
          },
          "metadata": {},
          "execution_count": 21
        }
      ]
    },
    {
      "cell_type": "markdown",
      "source": [
        "Podemos construir novas variáveis a partir da variável phq_grp:"
      ],
      "metadata": {
        "id": "SBonDCKSlYDf"
      }
    },
    {
      "cell_type": "code",
      "source": [
        "# Para melhorar a distribuição, será reduzido o número de categorias.\n",
        "# Agrupando phq_grp em 0 = Sem sintomas, 1 = Sintomas leves, 2 = Sintomas moderados a severos\n",
        "\n",
        "db2[\"phq_grp2\"] = db2[\"phq_grp\"].replace([3, 4], 2) # substitui na coluna 'phq_grp' tudo que for 3 e 4, pelo número 2.\n",
        "\n",
        "db2[[\"phq_grp2\"]].value_counts(sort = False) # Avaliando frequencia"
      ],
      "metadata": {
        "colab": {
          "base_uri": "https://localhost:8080/"
        },
        "id": "GobZWyXYjFiH",
        "outputId": "918a2818-dad0-45b5-ac21-a9ff48abbfdd"
      },
      "execution_count": 22,
      "outputs": [
        {
          "output_type": "execute_result",
          "data": {
            "text/plain": [
              "phq_grp2\n",
              "0.0         4013\n",
              "1.0          489\n",
              "2.0          297\n",
              "dtype: int64"
            ]
          },
          "metadata": {},
          "execution_count": 22
        }
      ]
    },
    {
      "cell_type": "markdown",
      "source": [
        "1) Para as etapas de análise exploratória e teste de hipótese, utilizaremos a variável phq_grp2 com 3 níveis de sintomas de depressão.\n",
        "\n",
        "2) Como o percentual de missing está abaixo de 10% para todas as variáveis, seguiremos a análise utilizando apenas os dados completos."
      ],
      "metadata": {
        "id": "ipgA2oftmGQD"
      }
    },
    {
      "cell_type": "markdown",
      "source": [
        "## EDA: Análise Univariada"
      ],
      "metadata": {
        "id": "lPAiM0DLmJPR"
      }
    },
    {
      "cell_type": "code",
      "source": [
        "#Para facilitar a análise, deixe as variáveis agrupadas por tipo.\n",
        "\n",
        "#quantitativas\n",
        "var_quant = [\n",
        "    \"RIDAGEYR\", \n",
        "    \"INDFMINC\", \n",
        "    \"PAG_MINW\", \n",
        "    \"HEI2015C1_TOTALVEG\",\n",
        "    \"HEI2015C2_GREEN_AND_BEAN\",\n",
        "    \"HEI2015C3_TOTALFRUIT\",\n",
        "    \"HEI2015C4_WHOLEFRUIT\",\n",
        "    \"HEI2015C5_WHOLEGRAIN\",\n",
        "    \"HEI2015C6_TOTALDAIRY\",\n",
        "    \"HEI2015C7_TOTPROT\",\n",
        "    \"HEI2015C8_SEAPLANT_PROT\",\n",
        "    \"HEI2015C9_FATTYACID\",\n",
        "    \"HEI2015C10_SODIUM\",\n",
        "    \"HEI2015C11_REFINEDGRAIN\",\n",
        "    \"HEI2015C12_SFAT\",\n",
        "    \"HEI2015C13_ADDSUG\",\n",
        "    \"HEI2015_TOTAL_SCORE\",\n",
        "    \"phq9\"]\n",
        "\n",
        "#qualitativas\n",
        "var_quali = [\n",
        "    \"RIAGENDR\",\n",
        "    \"RIDRETH1\",\n",
        "    \"DMDEDUC\",\n",
        "    \"ADHERENCE\",\n",
        "    \"phq_grp2\"\n",
        "]\n",
        "\n",
        "#dicionários úteis para gerar gráficos\n",
        "label_quali = {\n",
        "  \"RIAGENDR\": {1: 'Masculino', \n",
        "               2: 'Feminino'},\n",
        "  \"RIDRETH1\": {1: 'Americano Mexicano', \n",
        "               2: 'Outro', \n",
        "               3: 'Branco \\n não hispânico', \n",
        "               4: 'Negro \\n não hispânico'},\n",
        "  \"DMDEDUC\": {1: \"< 9 ano\", \n",
        "              2: \"9-12 ano\", \n",
        "              3: \"Ensino \\n médio\", \n",
        "              4: \"Superior \\n incompleto\", \n",
        "              5: \"Superior \\n completo\"},\n",
        "  \"ADHERENCE\": {1: 'Baixo', \n",
        "                2: 'Adequado', \n",
        "                3: 'Acima'},\n",
        "  \"phq_grp2\": {0: \"Sem sintomas\", \n",
        "               1: \"Sintomas \\n leves\", \n",
        "               2: \"Sintomas \\n moderados-severos\"}\n",
        "}"
      ],
      "metadata": {
        "id": "i-AzSo6jmh5J"
      },
      "execution_count": 23,
      "outputs": []
    },
    {
      "cell_type": "code",
      "source": [
        "db2[var_quant].describe(percentiles = [.25, .5, .75, .95, .99]).round(2)"
      ],
      "metadata": {
        "colab": {
          "base_uri": "https://localhost:8080/",
          "height": 427
        },
        "id": "AbztctDvnT0O",
        "outputId": "b74f1916-aadd-4365-fd17-9128790948fc"
      },
      "execution_count": 24,
      "outputs": [
        {
          "output_type": "execute_result",
          "data": {
            "text/plain": [
              "       RIDAGEYR  INDFMINC  PAG_MINW  HEI2015C1_TOTALVEG  \\\n",
              "count   5334.00   5174.00   5334.00             5060.00   \n",
              "mean      45.09  40787.68    471.77                3.20   \n",
              "std       20.15  24247.24    780.35                1.47   \n",
              "min       18.00   2499.50      0.00                0.00   \n",
              "25%       27.00  17499.50     35.00                2.06   \n",
              "50%       43.00  39999.50    210.00                3.22   \n",
              "75%       62.00  69999.50    568.93                4.83   \n",
              "95%       81.00  75000.00   1863.05                5.00   \n",
              "99%       85.00  75000.00   3672.06                5.00   \n",
              "max       85.00  75000.00  10777.83                5.00   \n",
              "\n",
              "       HEI2015C2_GREEN_AND_BEAN  HEI2015C3_TOTALFRUIT  HEI2015C4_WHOLEFRUIT  \\\n",
              "count                   5060.00               5060.00               5060.00   \n",
              "mean                       1.81                  2.49                  2.36   \n",
              "std                        2.14                  1.95                  2.17   \n",
              "min                        0.00                  0.00                  0.00   \n",
              "25%                        0.00                  0.45                  0.00   \n",
              "50%                        0.06                  2.32                  2.08   \n",
              "75%                        4.50                  4.94                  5.00   \n",
              "95%                        5.00                  5.00                  5.00   \n",
              "99%                        5.00                  5.00                  5.00   \n",
              "max                        5.00                  5.00                  5.00   \n",
              "\n",
              "       HEI2015C5_WHOLEGRAIN  HEI2015C6_TOTALDAIRY  HEI2015C7_TOTPROT  \\\n",
              "count               5060.00               5060.00            5060.00   \n",
              "mean                   1.76                  3.76               4.43   \n",
              "std                    1.92                  1.61               1.01   \n",
              "min                    0.00                  0.00               0.00   \n",
              "25%                    0.00                  2.59               4.17   \n",
              "50%                    1.03                  4.94               5.00   \n",
              "75%                    3.41                  5.00               5.00   \n",
              "95%                    5.00                  5.00               5.00   \n",
              "99%                    5.00                  5.00               5.00   \n",
              "max                    5.00                  5.00               5.00   \n",
              "\n",
              "       HEI2015C8_SEAPLANT_PROT  HEI2015C9_FATTYACID  HEI2015C10_SODIUM  \\\n",
              "count                  5060.00              5060.00            5060.00   \n",
              "mean                      2.59                 4.71               4.76   \n",
              "std                       2.17                 3.24               3.42   \n",
              "min                       0.00                 0.00               0.00   \n",
              "25%                       0.00                 2.02               1.59   \n",
              "50%                       2.59                 4.43               4.83   \n",
              "75%                       5.00                 7.27               7.65   \n",
              "95%                       5.00                10.00              10.00   \n",
              "99%                       5.00                10.00              10.00   \n",
              "max                       5.00                10.00              10.00   \n",
              "\n",
              "       HEI2015C11_REFINEDGRAIN  HEI2015C12_SFAT  HEI2015C13_ADDSUG  \\\n",
              "count                  5060.00          5060.00            5060.00   \n",
              "mean                      5.80             6.07               6.22   \n",
              "std                       3.50             3.18               3.33   \n",
              "min                       0.00             0.00               0.00   \n",
              "25%                       2.93             3.70               3.72   \n",
              "50%                       6.23             6.41               6.86   \n",
              "75%                       9.25             9.00               9.45   \n",
              "95%                      10.00            10.00              10.00   \n",
              "99%                      10.00            10.00              10.00   \n",
              "max                      10.00            10.00              10.00   \n",
              "\n",
              "       HEI2015_TOTAL_SCORE     phq9  \n",
              "count              5060.00  4799.00  \n",
              "mean                 49.97     2.73  \n",
              "std                  12.32     3.73  \n",
              "min                  16.06     0.00  \n",
              "25%                  41.03     0.00  \n",
              "50%                  49.51     1.00  \n",
              "75%                  58.17     4.00  \n",
              "95%                  71.19    10.00  \n",
              "99%                  79.86    17.00  \n",
              "max                  89.53    27.00  "
            ],
            "text/html": [
              "\n",
              "  <div id=\"df-9483a2c8-27a7-4043-9e8d-b2c4ffebf371\">\n",
              "    <div class=\"colab-df-container\">\n",
              "      <div>\n",
              "<style scoped>\n",
              "    .dataframe tbody tr th:only-of-type {\n",
              "        vertical-align: middle;\n",
              "    }\n",
              "\n",
              "    .dataframe tbody tr th {\n",
              "        vertical-align: top;\n",
              "    }\n",
              "\n",
              "    .dataframe thead th {\n",
              "        text-align: right;\n",
              "    }\n",
              "</style>\n",
              "<table border=\"1\" class=\"dataframe\">\n",
              "  <thead>\n",
              "    <tr style=\"text-align: right;\">\n",
              "      <th></th>\n",
              "      <th>RIDAGEYR</th>\n",
              "      <th>INDFMINC</th>\n",
              "      <th>PAG_MINW</th>\n",
              "      <th>HEI2015C1_TOTALVEG</th>\n",
              "      <th>HEI2015C2_GREEN_AND_BEAN</th>\n",
              "      <th>HEI2015C3_TOTALFRUIT</th>\n",
              "      <th>HEI2015C4_WHOLEFRUIT</th>\n",
              "      <th>HEI2015C5_WHOLEGRAIN</th>\n",
              "      <th>HEI2015C6_TOTALDAIRY</th>\n",
              "      <th>HEI2015C7_TOTPROT</th>\n",
              "      <th>HEI2015C8_SEAPLANT_PROT</th>\n",
              "      <th>HEI2015C9_FATTYACID</th>\n",
              "      <th>HEI2015C10_SODIUM</th>\n",
              "      <th>HEI2015C11_REFINEDGRAIN</th>\n",
              "      <th>HEI2015C12_SFAT</th>\n",
              "      <th>HEI2015C13_ADDSUG</th>\n",
              "      <th>HEI2015_TOTAL_SCORE</th>\n",
              "      <th>phq9</th>\n",
              "    </tr>\n",
              "  </thead>\n",
              "  <tbody>\n",
              "    <tr>\n",
              "      <th>count</th>\n",
              "      <td>5334.00</td>\n",
              "      <td>5174.00</td>\n",
              "      <td>5334.00</td>\n",
              "      <td>5060.00</td>\n",
              "      <td>5060.00</td>\n",
              "      <td>5060.00</td>\n",
              "      <td>5060.00</td>\n",
              "      <td>5060.00</td>\n",
              "      <td>5060.00</td>\n",
              "      <td>5060.00</td>\n",
              "      <td>5060.00</td>\n",
              "      <td>5060.00</td>\n",
              "      <td>5060.00</td>\n",
              "      <td>5060.00</td>\n",
              "      <td>5060.00</td>\n",
              "      <td>5060.00</td>\n",
              "      <td>5060.00</td>\n",
              "      <td>4799.00</td>\n",
              "    </tr>\n",
              "    <tr>\n",
              "      <th>mean</th>\n",
              "      <td>45.09</td>\n",
              "      <td>40787.68</td>\n",
              "      <td>471.77</td>\n",
              "      <td>3.20</td>\n",
              "      <td>1.81</td>\n",
              "      <td>2.49</td>\n",
              "      <td>2.36</td>\n",
              "      <td>1.76</td>\n",
              "      <td>3.76</td>\n",
              "      <td>4.43</td>\n",
              "      <td>2.59</td>\n",
              "      <td>4.71</td>\n",
              "      <td>4.76</td>\n",
              "      <td>5.80</td>\n",
              "      <td>6.07</td>\n",
              "      <td>6.22</td>\n",
              "      <td>49.97</td>\n",
              "      <td>2.73</td>\n",
              "    </tr>\n",
              "    <tr>\n",
              "      <th>std</th>\n",
              "      <td>20.15</td>\n",
              "      <td>24247.24</td>\n",
              "      <td>780.35</td>\n",
              "      <td>1.47</td>\n",
              "      <td>2.14</td>\n",
              "      <td>1.95</td>\n",
              "      <td>2.17</td>\n",
              "      <td>1.92</td>\n",
              "      <td>1.61</td>\n",
              "      <td>1.01</td>\n",
              "      <td>2.17</td>\n",
              "      <td>3.24</td>\n",
              "      <td>3.42</td>\n",
              "      <td>3.50</td>\n",
              "      <td>3.18</td>\n",
              "      <td>3.33</td>\n",
              "      <td>12.32</td>\n",
              "      <td>3.73</td>\n",
              "    </tr>\n",
              "    <tr>\n",
              "      <th>min</th>\n",
              "      <td>18.00</td>\n",
              "      <td>2499.50</td>\n",
              "      <td>0.00</td>\n",
              "      <td>0.00</td>\n",
              "      <td>0.00</td>\n",
              "      <td>0.00</td>\n",
              "      <td>0.00</td>\n",
              "      <td>0.00</td>\n",
              "      <td>0.00</td>\n",
              "      <td>0.00</td>\n",
              "      <td>0.00</td>\n",
              "      <td>0.00</td>\n",
              "      <td>0.00</td>\n",
              "      <td>0.00</td>\n",
              "      <td>0.00</td>\n",
              "      <td>0.00</td>\n",
              "      <td>16.06</td>\n",
              "      <td>0.00</td>\n",
              "    </tr>\n",
              "    <tr>\n",
              "      <th>25%</th>\n",
              "      <td>27.00</td>\n",
              "      <td>17499.50</td>\n",
              "      <td>35.00</td>\n",
              "      <td>2.06</td>\n",
              "      <td>0.00</td>\n",
              "      <td>0.45</td>\n",
              "      <td>0.00</td>\n",
              "      <td>0.00</td>\n",
              "      <td>2.59</td>\n",
              "      <td>4.17</td>\n",
              "      <td>0.00</td>\n",
              "      <td>2.02</td>\n",
              "      <td>1.59</td>\n",
              "      <td>2.93</td>\n",
              "      <td>3.70</td>\n",
              "      <td>3.72</td>\n",
              "      <td>41.03</td>\n",
              "      <td>0.00</td>\n",
              "    </tr>\n",
              "    <tr>\n",
              "      <th>50%</th>\n",
              "      <td>43.00</td>\n",
              "      <td>39999.50</td>\n",
              "      <td>210.00</td>\n",
              "      <td>3.22</td>\n",
              "      <td>0.06</td>\n",
              "      <td>2.32</td>\n",
              "      <td>2.08</td>\n",
              "      <td>1.03</td>\n",
              "      <td>4.94</td>\n",
              "      <td>5.00</td>\n",
              "      <td>2.59</td>\n",
              "      <td>4.43</td>\n",
              "      <td>4.83</td>\n",
              "      <td>6.23</td>\n",
              "      <td>6.41</td>\n",
              "      <td>6.86</td>\n",
              "      <td>49.51</td>\n",
              "      <td>1.00</td>\n",
              "    </tr>\n",
              "    <tr>\n",
              "      <th>75%</th>\n",
              "      <td>62.00</td>\n",
              "      <td>69999.50</td>\n",
              "      <td>568.93</td>\n",
              "      <td>4.83</td>\n",
              "      <td>4.50</td>\n",
              "      <td>4.94</td>\n",
              "      <td>5.00</td>\n",
              "      <td>3.41</td>\n",
              "      <td>5.00</td>\n",
              "      <td>5.00</td>\n",
              "      <td>5.00</td>\n",
              "      <td>7.27</td>\n",
              "      <td>7.65</td>\n",
              "      <td>9.25</td>\n",
              "      <td>9.00</td>\n",
              "      <td>9.45</td>\n",
              "      <td>58.17</td>\n",
              "      <td>4.00</td>\n",
              "    </tr>\n",
              "    <tr>\n",
              "      <th>95%</th>\n",
              "      <td>81.00</td>\n",
              "      <td>75000.00</td>\n",
              "      <td>1863.05</td>\n",
              "      <td>5.00</td>\n",
              "      <td>5.00</td>\n",
              "      <td>5.00</td>\n",
              "      <td>5.00</td>\n",
              "      <td>5.00</td>\n",
              "      <td>5.00</td>\n",
              "      <td>5.00</td>\n",
              "      <td>5.00</td>\n",
              "      <td>10.00</td>\n",
              "      <td>10.00</td>\n",
              "      <td>10.00</td>\n",
              "      <td>10.00</td>\n",
              "      <td>10.00</td>\n",
              "      <td>71.19</td>\n",
              "      <td>10.00</td>\n",
              "    </tr>\n",
              "    <tr>\n",
              "      <th>99%</th>\n",
              "      <td>85.00</td>\n",
              "      <td>75000.00</td>\n",
              "      <td>3672.06</td>\n",
              "      <td>5.00</td>\n",
              "      <td>5.00</td>\n",
              "      <td>5.00</td>\n",
              "      <td>5.00</td>\n",
              "      <td>5.00</td>\n",
              "      <td>5.00</td>\n",
              "      <td>5.00</td>\n",
              "      <td>5.00</td>\n",
              "      <td>10.00</td>\n",
              "      <td>10.00</td>\n",
              "      <td>10.00</td>\n",
              "      <td>10.00</td>\n",
              "      <td>10.00</td>\n",
              "      <td>79.86</td>\n",
              "      <td>17.00</td>\n",
              "    </tr>\n",
              "    <tr>\n",
              "      <th>max</th>\n",
              "      <td>85.00</td>\n",
              "      <td>75000.00</td>\n",
              "      <td>10777.83</td>\n",
              "      <td>5.00</td>\n",
              "      <td>5.00</td>\n",
              "      <td>5.00</td>\n",
              "      <td>5.00</td>\n",
              "      <td>5.00</td>\n",
              "      <td>5.00</td>\n",
              "      <td>5.00</td>\n",
              "      <td>5.00</td>\n",
              "      <td>10.00</td>\n",
              "      <td>10.00</td>\n",
              "      <td>10.00</td>\n",
              "      <td>10.00</td>\n",
              "      <td>10.00</td>\n",
              "      <td>89.53</td>\n",
              "      <td>27.00</td>\n",
              "    </tr>\n",
              "  </tbody>\n",
              "</table>\n",
              "</div>\n",
              "      <button class=\"colab-df-convert\" onclick=\"convertToInteractive('df-9483a2c8-27a7-4043-9e8d-b2c4ffebf371')\"\n",
              "              title=\"Convert this dataframe to an interactive table.\"\n",
              "              style=\"display:none;\">\n",
              "        \n",
              "  <svg xmlns=\"http://www.w3.org/2000/svg\" height=\"24px\"viewBox=\"0 0 24 24\"\n",
              "       width=\"24px\">\n",
              "    <path d=\"M0 0h24v24H0V0z\" fill=\"none\"/>\n",
              "    <path d=\"M18.56 5.44l.94 2.06.94-2.06 2.06-.94-2.06-.94-.94-2.06-.94 2.06-2.06.94zm-11 1L8.5 8.5l.94-2.06 2.06-.94-2.06-.94L8.5 2.5l-.94 2.06-2.06.94zm10 10l.94 2.06.94-2.06 2.06-.94-2.06-.94-.94-2.06-.94 2.06-2.06.94z\"/><path d=\"M17.41 7.96l-1.37-1.37c-.4-.4-.92-.59-1.43-.59-.52 0-1.04.2-1.43.59L10.3 9.45l-7.72 7.72c-.78.78-.78 2.05 0 2.83L4 21.41c.39.39.9.59 1.41.59.51 0 1.02-.2 1.41-.59l7.78-7.78 2.81-2.81c.8-.78.8-2.07 0-2.86zM5.41 20L4 18.59l7.72-7.72 1.47 1.35L5.41 20z\"/>\n",
              "  </svg>\n",
              "      </button>\n",
              "      \n",
              "  <style>\n",
              "    .colab-df-container {\n",
              "      display:flex;\n",
              "      flex-wrap:wrap;\n",
              "      gap: 12px;\n",
              "    }\n",
              "\n",
              "    .colab-df-convert {\n",
              "      background-color: #E8F0FE;\n",
              "      border: none;\n",
              "      border-radius: 50%;\n",
              "      cursor: pointer;\n",
              "      display: none;\n",
              "      fill: #1967D2;\n",
              "      height: 32px;\n",
              "      padding: 0 0 0 0;\n",
              "      width: 32px;\n",
              "    }\n",
              "\n",
              "    .colab-df-convert:hover {\n",
              "      background-color: #E2EBFA;\n",
              "      box-shadow: 0px 1px 2px rgba(60, 64, 67, 0.3), 0px 1px 3px 1px rgba(60, 64, 67, 0.15);\n",
              "      fill: #174EA6;\n",
              "    }\n",
              "\n",
              "    [theme=dark] .colab-df-convert {\n",
              "      background-color: #3B4455;\n",
              "      fill: #D2E3FC;\n",
              "    }\n",
              "\n",
              "    [theme=dark] .colab-df-convert:hover {\n",
              "      background-color: #434B5C;\n",
              "      box-shadow: 0px 1px 3px 1px rgba(0, 0, 0, 0.15);\n",
              "      filter: drop-shadow(0px 1px 2px rgba(0, 0, 0, 0.3));\n",
              "      fill: #FFFFFF;\n",
              "    }\n",
              "  </style>\n",
              "\n",
              "      <script>\n",
              "        const buttonEl =\n",
              "          document.querySelector('#df-9483a2c8-27a7-4043-9e8d-b2c4ffebf371 button.colab-df-convert');\n",
              "        buttonEl.style.display =\n",
              "          google.colab.kernel.accessAllowed ? 'block' : 'none';\n",
              "\n",
              "        async function convertToInteractive(key) {\n",
              "          const element = document.querySelector('#df-9483a2c8-27a7-4043-9e8d-b2c4ffebf371');\n",
              "          const dataTable =\n",
              "            await google.colab.kernel.invokeFunction('convertToInteractive',\n",
              "                                                     [key], {});\n",
              "          if (!dataTable) return;\n",
              "\n",
              "          const docLinkHtml = 'Like what you see? Visit the ' +\n",
              "            '<a target=\"_blank\" href=https://colab.research.google.com/notebooks/data_table.ipynb>data table notebook</a>'\n",
              "            + ' to learn more about interactive tables.';\n",
              "          element.innerHTML = '';\n",
              "          dataTable['output_type'] = 'display_data';\n",
              "          await google.colab.output.renderOutput(dataTable, element);\n",
              "          const docLink = document.createElement('div');\n",
              "          docLink.innerHTML = docLinkHtml;\n",
              "          element.appendChild(docLink);\n",
              "        }\n",
              "      </script>\n",
              "    </div>\n",
              "  </div>\n",
              "  "
            ]
          },
          "metadata": {},
          "execution_count": 24
        }
      ]
    },
    {
      "cell_type": "markdown",
      "source": [
        "PAG_MINW = Tempo total semanal de atividade aeróbica moderada-\n",
        "vigorosa em minutos segundo o Physical Activity Guideline (PAG)\n",
        "\n",
        "De acordo com o guia \"Key Guidelines for Adults\" \n",
        "*For substantial health benefts, adults should do at least 150 minutes (2 hours and 30 minutes) to 300 minutes (5 hours) a week of moderate-intensity, or 75 minutes (1 hour and 15 minutes) to 150 minutes (2 hours and 30 minutes) a week of vigorous-intensity aerobic physical activity, or an equivalent combination of moderate- and vigorous-intensity aerobic activity. Preferably, aerobic activity should be spread throughout the week.* (página 8)\n",
        "Referência: https://health.gov/sites/default/files/2019-09/Physical_Activity_Guidelines_2nd_edition.pdf\n",
        "\n",
        "Dado que uma semana tem no máximo 168 horas (10080 minutos) o valor máximo de PAG_MINW não parece ser um valor possível. Nesse caso, iremos truncar o valor de PAG_MINW em 3600 minutos (60h semanais), aproximadamente 8 horas diárias.\n"
      ],
      "metadata": {
        "id": "Y_7d58HInjgu"
      }
    },
    {
      "cell_type": "code",
      "source": [
        "db2['PAG_MINW_trunc'] = np.where(db2['PAG_MINW'] > 3600, 3600, db2['PAG_MINW'])\n",
        "\n",
        "db2[['PAG_MINW', 'PAG_MINW_trunc']].describe(percentiles = [.25, .5, .75, .95, .99]).round(2)"
      ],
      "metadata": {
        "colab": {
          "base_uri": "https://localhost:8080/",
          "height": 363
        },
        "id": "s7LqsfInnjNw",
        "outputId": "9d3735cd-c229-48e0-d8cf-7f38b8b2c785"
      },
      "execution_count": 25,
      "outputs": [
        {
          "output_type": "execute_result",
          "data": {
            "text/plain": [
              "       PAG_MINW  PAG_MINW_trunc\n",
              "count   5334.00         5334.00\n",
              "mean     471.77          454.86\n",
              "std      780.35          663.05\n",
              "min        0.00            0.00\n",
              "25%       35.00           35.00\n",
              "50%      210.00          210.00\n",
              "75%      568.93          568.93\n",
              "95%     1863.05         1863.05\n",
              "99%     3672.06         3600.00\n",
              "max    10777.83         3600.00"
            ],
            "text/html": [
              "\n",
              "  <div id=\"df-9eb97b2e-2278-4034-a5e8-0c1b6254431e\">\n",
              "    <div class=\"colab-df-container\">\n",
              "      <div>\n",
              "<style scoped>\n",
              "    .dataframe tbody tr th:only-of-type {\n",
              "        vertical-align: middle;\n",
              "    }\n",
              "\n",
              "    .dataframe tbody tr th {\n",
              "        vertical-align: top;\n",
              "    }\n",
              "\n",
              "    .dataframe thead th {\n",
              "        text-align: right;\n",
              "    }\n",
              "</style>\n",
              "<table border=\"1\" class=\"dataframe\">\n",
              "  <thead>\n",
              "    <tr style=\"text-align: right;\">\n",
              "      <th></th>\n",
              "      <th>PAG_MINW</th>\n",
              "      <th>PAG_MINW_trunc</th>\n",
              "    </tr>\n",
              "  </thead>\n",
              "  <tbody>\n",
              "    <tr>\n",
              "      <th>count</th>\n",
              "      <td>5334.00</td>\n",
              "      <td>5334.00</td>\n",
              "    </tr>\n",
              "    <tr>\n",
              "      <th>mean</th>\n",
              "      <td>471.77</td>\n",
              "      <td>454.86</td>\n",
              "    </tr>\n",
              "    <tr>\n",
              "      <th>std</th>\n",
              "      <td>780.35</td>\n",
              "      <td>663.05</td>\n",
              "    </tr>\n",
              "    <tr>\n",
              "      <th>min</th>\n",
              "      <td>0.00</td>\n",
              "      <td>0.00</td>\n",
              "    </tr>\n",
              "    <tr>\n",
              "      <th>25%</th>\n",
              "      <td>35.00</td>\n",
              "      <td>35.00</td>\n",
              "    </tr>\n",
              "    <tr>\n",
              "      <th>50%</th>\n",
              "      <td>210.00</td>\n",
              "      <td>210.00</td>\n",
              "    </tr>\n",
              "    <tr>\n",
              "      <th>75%</th>\n",
              "      <td>568.93</td>\n",
              "      <td>568.93</td>\n",
              "    </tr>\n",
              "    <tr>\n",
              "      <th>95%</th>\n",
              "      <td>1863.05</td>\n",
              "      <td>1863.05</td>\n",
              "    </tr>\n",
              "    <tr>\n",
              "      <th>99%</th>\n",
              "      <td>3672.06</td>\n",
              "      <td>3600.00</td>\n",
              "    </tr>\n",
              "    <tr>\n",
              "      <th>max</th>\n",
              "      <td>10777.83</td>\n",
              "      <td>3600.00</td>\n",
              "    </tr>\n",
              "  </tbody>\n",
              "</table>\n",
              "</div>\n",
              "      <button class=\"colab-df-convert\" onclick=\"convertToInteractive('df-9eb97b2e-2278-4034-a5e8-0c1b6254431e')\"\n",
              "              title=\"Convert this dataframe to an interactive table.\"\n",
              "              style=\"display:none;\">\n",
              "        \n",
              "  <svg xmlns=\"http://www.w3.org/2000/svg\" height=\"24px\"viewBox=\"0 0 24 24\"\n",
              "       width=\"24px\">\n",
              "    <path d=\"M0 0h24v24H0V0z\" fill=\"none\"/>\n",
              "    <path d=\"M18.56 5.44l.94 2.06.94-2.06 2.06-.94-2.06-.94-.94-2.06-.94 2.06-2.06.94zm-11 1L8.5 8.5l.94-2.06 2.06-.94-2.06-.94L8.5 2.5l-.94 2.06-2.06.94zm10 10l.94 2.06.94-2.06 2.06-.94-2.06-.94-.94-2.06-.94 2.06-2.06.94z\"/><path d=\"M17.41 7.96l-1.37-1.37c-.4-.4-.92-.59-1.43-.59-.52 0-1.04.2-1.43.59L10.3 9.45l-7.72 7.72c-.78.78-.78 2.05 0 2.83L4 21.41c.39.39.9.59 1.41.59.51 0 1.02-.2 1.41-.59l7.78-7.78 2.81-2.81c.8-.78.8-2.07 0-2.86zM5.41 20L4 18.59l7.72-7.72 1.47 1.35L5.41 20z\"/>\n",
              "  </svg>\n",
              "      </button>\n",
              "      \n",
              "  <style>\n",
              "    .colab-df-container {\n",
              "      display:flex;\n",
              "      flex-wrap:wrap;\n",
              "      gap: 12px;\n",
              "    }\n",
              "\n",
              "    .colab-df-convert {\n",
              "      background-color: #E8F0FE;\n",
              "      border: none;\n",
              "      border-radius: 50%;\n",
              "      cursor: pointer;\n",
              "      display: none;\n",
              "      fill: #1967D2;\n",
              "      height: 32px;\n",
              "      padding: 0 0 0 0;\n",
              "      width: 32px;\n",
              "    }\n",
              "\n",
              "    .colab-df-convert:hover {\n",
              "      background-color: #E2EBFA;\n",
              "      box-shadow: 0px 1px 2px rgba(60, 64, 67, 0.3), 0px 1px 3px 1px rgba(60, 64, 67, 0.15);\n",
              "      fill: #174EA6;\n",
              "    }\n",
              "\n",
              "    [theme=dark] .colab-df-convert {\n",
              "      background-color: #3B4455;\n",
              "      fill: #D2E3FC;\n",
              "    }\n",
              "\n",
              "    [theme=dark] .colab-df-convert:hover {\n",
              "      background-color: #434B5C;\n",
              "      box-shadow: 0px 1px 3px 1px rgba(0, 0, 0, 0.15);\n",
              "      filter: drop-shadow(0px 1px 2px rgba(0, 0, 0, 0.3));\n",
              "      fill: #FFFFFF;\n",
              "    }\n",
              "  </style>\n",
              "\n",
              "      <script>\n",
              "        const buttonEl =\n",
              "          document.querySelector('#df-9eb97b2e-2278-4034-a5e8-0c1b6254431e button.colab-df-convert');\n",
              "        buttonEl.style.display =\n",
              "          google.colab.kernel.accessAllowed ? 'block' : 'none';\n",
              "\n",
              "        async function convertToInteractive(key) {\n",
              "          const element = document.querySelector('#df-9eb97b2e-2278-4034-a5e8-0c1b6254431e');\n",
              "          const dataTable =\n",
              "            await google.colab.kernel.invokeFunction('convertToInteractive',\n",
              "                                                     [key], {});\n",
              "          if (!dataTable) return;\n",
              "\n",
              "          const docLinkHtml = 'Like what you see? Visit the ' +\n",
              "            '<a target=\"_blank\" href=https://colab.research.google.com/notebooks/data_table.ipynb>data table notebook</a>'\n",
              "            + ' to learn more about interactive tables.';\n",
              "          element.innerHTML = '';\n",
              "          dataTable['output_type'] = 'display_data';\n",
              "          await google.colab.output.renderOutput(dataTable, element);\n",
              "          const docLink = document.createElement('div');\n",
              "          docLink.innerHTML = docLinkHtml;\n",
              "          element.appendChild(docLink);\n",
              "        }\n",
              "      </script>\n",
              "    </div>\n",
              "  </div>\n",
              "  "
            ]
          },
          "metadata": {},
          "execution_count": 25
        }
      ]
    },
    {
      "cell_type": "markdown",
      "source": [
        "Podemos transformar a variável PAG_MINW em horas:"
      ],
      "metadata": {
        "id": "3RiEHVZ9rEwm"
      }
    },
    {
      "cell_type": "code",
      "source": [
        "db2[\"PAG_HRW\"] = db2[\"PAG_MINW_trunc\"]/60"
      ],
      "metadata": {
        "id": "19LTugCYrAxG"
      },
      "execution_count": 26,
      "outputs": []
    },
    {
      "cell_type": "markdown",
      "source": [
        "### **Editando as cores dos gráficos**"
      ],
      "metadata": {
        "id": "bd_sKpcV_SK5"
      }
    },
    {
      "cell_type": "code",
      "source": [
        "blue,purple,red,pink=sns.blend_palette([\"blue\",\"purple\",\"red\",\"pink\"], 4)"
      ],
      "metadata": {
        "id": "xmzmmH5J_eh3"
      },
      "execution_count": 106,
      "outputs": []
    },
    {
      "cell_type": "code",
      "source": [
        "blue"
      ],
      "metadata": {
        "colab": {
          "base_uri": "https://localhost:8080/"
        },
        "id": "3eDS-heKpnuo",
        "outputId": "1fedc7d8-93be-4d88-e4ca-15396c730dd7"
      },
      "execution_count": 50,
      "outputs": [
        {
          "output_type": "execute_result",
          "data": {
            "text/plain": [
              "(0.0, 0.0, 1.0)"
            ]
          },
          "metadata": {},
          "execution_count": 50
        }
      ]
    },
    {
      "cell_type": "code",
      "source": [
        "sns.displot(db2, x=\"RIDAGEYR\", kde=True, color=blue)\n",
        "sns.displot(db2, x=\"INDFMINC\", kde=True,  color=purple)\n",
        "sns.displot(db2, x=\"PAG_MINW_trunc\", kde=True,  color=red)\n",
        "sns.displot(db2, x=\"PAG_HRW\", kde=True,  color=pink)\n",
        "plt.show()"
      ],
      "metadata": {
        "colab": {
          "base_uri": "https://localhost:8080/",
          "height": 1000
        },
        "id": "D7E9lFYVrIyf",
        "outputId": "d63eaf1c-6350-43d7-bc51-c96a3be037d8"
      },
      "execution_count": 51,
      "outputs": [
        {
          "output_type": "display_data",
          "data": {
            "text/plain": [
              "<Figure size 360x360 with 1 Axes>"
            ],
            "image/png": "[encoded data removed]"
          },
          "metadata": {
            "needs_background": "light"
          }
        },
        {
          "output_type": "display_data",
          "data": {
            "text/plain": [
              "<Figure size 360x360 with 1 Axes>"
            ],
            "image/png": "[encoded data removed]"
          },
          "metadata": {
            "needs_background": "light"
          }
        },
        {
          "output_type": "display_data",
          "data": {
            "text/plain": [
              "<Figure size 360x360 with 1 Axes>"
            ],
            "image/png": "[encoded data removed]"
          },
          "metadata": {
            "needs_background": "light"
          }
        },
        {
          "output_type": "display_data",
          "data": {
            "text/plain": [
              "<Figure size 360x360 with 1 Axes>"
            ],
            "image/png": "[encoded data removed]"
          },
          "metadata": {
            "needs_background": "light"
          }
        }
      ]
    },
    {
      "cell_type": "markdown",
      "source": [
        "Ao analisar a distribuição dos dados, caldas mais longas representam------\n",
        "\n",
        "Como a variável PAG_HRW é bastante assimétrica, podemos também criar uma versão com o log:"
      ],
      "metadata": {
        "id": "WoIHce-6r5yl"
      }
    },
    {
      "cell_type": "code",
      "source": [
        "db2[\"PAG_HRW_log\"] = np.log(db2[\"PAG_HRW\"] + 1)"
      ],
      "metadata": {
        "id": "IahpPAewr7o1"
      },
      "execution_count": 54,
      "outputs": []
    },
    {
      "cell_type": "code",
      "source": [
        "sns.displot(db2, x=\"PAG_HRW_log\", kde=True, color=pink)\n",
        "plt.show()"
      ],
      "metadata": {
        "colab": {
          "base_uri": "https://localhost:8080/",
          "height": 369
        },
        "id": "Vf3TT_RXr-JE",
        "outputId": "9444f571-924c-4816-9f4d-f3389c214655"
      },
      "execution_count": 55,
      "outputs": [
        {
          "output_type": "display_data",
          "data": {
            "text/plain": [
              "<Figure size 360x360 with 1 Axes>"
            ],
            "image/png": "[encoded data removed]"
          },
          "metadata": {
            "needs_background": "light"
          }
        }
      ]
    },
    {
      "cell_type": "code",
      "source": [
        "import matplotlib.pyplot as plt"
      ],
      "metadata": {
        "id": "E_Wk1wGGrclT"
      },
      "execution_count": 66,
      "outputs": []
    },
    {
      "cell_type": "code",
      "source": [
        "# Função para construir gráfico de barras\n",
        "\n",
        "def grafico_barras_prop(data, variable):\n",
        "    (data[[variable]]\n",
        "     .value_counts(normalize=True, sort = False)\n",
        "     .rename(\"Proportion\")\n",
        "     .reset_index()\n",
        "     .pipe((sns.barplot, \"data\"), x=variable, y=\"Proportion\", palette=sns.blend_palette([\"blue\",\"purple\",\"red\",\"pink\"], 6)))\n",
        "    plt.ylim(0,1)\n",
        "    plt.show()"
      ],
      "metadata": {
        "id": "FQ8O7LN7oL6q"
      },
      "execution_count": 99,
      "outputs": []
    },
    {
      "cell_type": "code",
      "source": [
        "grafico_barras_prop(db2.replace(label_quali), variable = \"RIAGENDR\")"
      ],
      "metadata": {
        "colab": {
          "base_uri": "https://localhost:8080/",
          "height": 283
        },
        "id": "mz9v5RMtoVZp",
        "outputId": "80d4ac61-3199-44ba-a8ce-04a1e8a8e1e3"
      },
      "execution_count": 100,
      "outputs": [
        {
          "output_type": "display_data",
          "data": {
            "text/plain": [
              "<Figure size 432x288 with 1 Axes>"
            ],
            "image/png": "[encoded data removed]"
          },
          "metadata": {
            "needs_background": "light"
          }
        }
      ]
    },
    {
      "cell_type": "code",
      "source": [
        "grafico_barras_prop(db2.replace(label_quali), \n",
        "                    variable = \"RIDRETH1\")"
      ],
      "metadata": {
        "colab": {
          "base_uri": "https://localhost:8080/",
          "height": 296
        },
        "id": "9uHdWJLRpSrS",
        "outputId": "819bd067-92e2-4a04-9487-705da1b6dc11"
      },
      "execution_count": 101,
      "outputs": [
        {
          "output_type": "display_data",
          "data": {
            "text/plain": [
              "<Figure size 432x288 with 1 Axes>"
            ],
            "image/png": "[encoded data removed]"
          },
          "metadata": {
            "needs_background": "light"
          }
        }
      ]
    },
    {
      "cell_type": "code",
      "source": [
        "grafico_barras_prop(db2.replace(label_quali), \n",
        "                    variable = \"DMDEDUC\")"
      ],
      "metadata": {
        "colab": {
          "base_uri": "https://localhost:8080/",
          "height": 295
        },
        "id": "pMQ6SLKrpYWZ",
        "outputId": "2e0db692-e137-4a75-ae70-da4dca3c6364"
      },
      "execution_count": 102,
      "outputs": [
        {
          "output_type": "display_data",
          "data": {
            "text/plain": [
              "<Figure size 432x288 with 1 Axes>"
            ],
            "image/png": "[encoded data removed]"
          },
          "metadata": {
            "needs_background": "light"
          }
        }
      ]
    },
    {
      "cell_type": "code",
      "source": [
        "grafico_barras_prop(db2.replace(label_quali), \n",
        "                    variable = \"ADHERENCE\")"
      ],
      "metadata": {
        "colab": {
          "base_uri": "https://localhost:8080/",
          "height": 283
        },
        "id": "FJ5epbD3pYok",
        "outputId": "9f3eceef-8f19-4aa0-8dbc-63d09a7044ee"
      },
      "execution_count": 103,
      "outputs": [
        {
          "output_type": "display_data",
          "data": {
            "text/plain": [
              "<Figure size 432x288 with 1 Axes>"
            ],
            "image/png": "[encoded data removed]"
          },
          "metadata": {
            "needs_background": "light"
          }
        }
      ]
    },
    {
      "cell_type": "code",
      "source": [
        "grafico_barras_prop(db2.replace(label_quali), \n",
        "                    variable = \"phq_grp2\")"
      ],
      "metadata": {
        "colab": {
          "base_uri": "https://localhost:8080/",
          "height": 296
        },
        "id": "jUJdUct5pelZ",
        "outputId": "6e3fd1e5-f4d8-4279-bc36-021768e3d680"
      },
      "execution_count": 104,
      "outputs": [
        {
          "output_type": "display_data",
          "data": {
            "text/plain": [
              "<Figure size 432x288 with 1 Axes>"
            ],
            "image/png": "[encoded data removed]"
          },
          "metadata": {
            "needs_background": "light"
          }
        }
      ]
    },
    {
      "cell_type": "markdown",
      "source": [
        "## EDA: Análise Bivariada + Teste de Hipóteses"
      ],
      "metadata": {
        "id": "QdQfwjpOpu2y"
      }
    },
    {
      "cell_type": "markdown",
      "source": [
        "Função para construir gráficos boxplot para uma variável quantitativa versus grupo de depressão"
      ],
      "metadata": {
        "id": "427z0yoOpwSb"
      }
    },
    {
      "cell_type": "code",
      "source": [
        "# Função para construir boxplot\n",
        "\n",
        "def grafico_boxplot_grp(data, variable, label):\n",
        "    \n",
        "    if label == \"\": label = variable\n",
        "    sns.boxplot(x=\"phq_grp2\", y=variable, data=data,  palette=sns.blend_palette([\"blue\",\"purple\",\"red\",\"pink\"], 6))\n",
        "    plt.ylabel(label)\n",
        "    plt.show()"
      ],
      "metadata": {
        "id": "ap4yB7otp4Vr"
      },
      "execution_count": 107,
      "outputs": []
    },
    {
      "cell_type": "markdown",
      "source": [
        "### A) Perfil com maiores incidências de sintomas de depressão"
      ],
      "metadata": {
        "id": "2s7BHCLhqi9K"
      }
    },
    {
      "cell_type": "code",
      "source": [
        "grafico_boxplot_grp(db2.replace(label_quali), \"RIDAGEYR\", \"Idade\")"
      ],
      "metadata": {
        "id": "lT8whh5ZqfAh",
        "colab": {
          "base_uri": "https://localhost:8080/",
          "height": 292
        },
        "outputId": "6cb23caf-c750-48c8-d48a-cc762b595bc5"
      },
      "execution_count": 108,
      "outputs": [
        {
          "output_type": "display_data",
          "data": {
            "text/plain": [
              "<Figure size 432x288 with 1 Axes>"
            ],
            "image/png": "[encoded data removed]"
          },
          "metadata": {
            "needs_background": "light"
          }
        }
      ]
    },
    {
      "cell_type": "markdown",
      "source": [
        "Teste de hipóteses:\n",
        "\n",
        "Neste caso queremos comparar a média de idade para os três grupos de sintomas de depressão. Sendo assim, o teste F da ANOVA será utilizado. Neste teste, decidimos entre a hipótese nula \"Não existe diferença entre os grupos de depressão com relação à média de idade\" e a hipótese alternativa \"Existe pelo menos uma diferença na média de idade entre os grupos de sintomas de depressão\"."
      ],
      "metadata": {
        "id": "-0r3EKfRu13_"
      }
    },
    {
      "cell_type": "code",
      "source": [
        "from scipy.stats import f_oneway\n",
        "\n",
        "db_aux = db2[[\"phq_grp2\", \"RIDAGEYR\"]].dropna()\n",
        "\n",
        "stat, p = f_oneway(db_aux[(db_aux.phq_grp2 == 0)][\"RIDAGEYR\"],\n",
        "                   db_aux[(db_aux.phq_grp2 == 1)][\"RIDAGEYR\"],\n",
        "                   db_aux[(db_aux.phq_grp2 == 2)][\"RIDAGEYR\"])\n",
        "\n",
        "print('stat=%.3f, p=%.3f' % (stat, p))"
      ],
      "metadata": {
        "colab": {
          "base_uri": "https://localhost:8080/"
        },
        "id": "moBbKdpsu6KI",
        "outputId": "aa307a24-fe49-4bb3-8031-42e6ec02d200"
      },
      "execution_count": 109,
      "outputs": [
        {
          "output_type": "stream",
          "name": "stdout",
          "text": [
            "stat=1.002, p=0.367\n"
          ]
        }
      ]
    },
    {
      "cell_type": "markdown",
      "source": [
        "O valor-p do teste foi p = 0.367. Interpretação do valor-p: Se a hipótese nula fosse verdadeira, qual a probabilidade de observarmos as diferenças que estamos observando na amostra?\n",
        "\n",
        "Neste caso, a probabilidade é alta (p = 0.367), ou seja, o que estamos observando na amostra é algo bem provável de ocorrer se a hipótese nula for verdadeira e, portanto, não temos indícios para rejeitar a hipótese nula. Sendo assim, não conseguimos detectar uma diferença estatisticamente significativa entre os grupos de depressão com relação à media de idade."
      ],
      "metadata": {
        "id": "v_214P_8u9Ux"
      }
    },
    {
      "cell_type": "code",
      "source": [
        "grafico_boxplot_grp(db2.replace(label_quali), \"INDFMINC\", \"Renda Anual Familiar (US$)\")"
      ],
      "metadata": {
        "colab": {
          "base_uri": "https://localhost:8080/",
          "height": 292
        },
        "id": "FoXVK8LdvALw",
        "outputId": "9ce61ace-b218-452d-d155-da6cb20ee66a"
      },
      "execution_count": 110,
      "outputs": [
        {
          "output_type": "display_data",
          "data": {
            "text/plain": [
              "<Figure size 432x288 with 1 Axes>"
            ],
            "image/png": "[encoded data removed]"
          },
          "metadata": {
            "needs_background": "light"
          }
        }
      ]
    },
    {
      "cell_type": "markdown",
      "source": [
        "Teste de hipóteses:"
      ],
      "metadata": {
        "id": "2Me-L8tGvD43"
      }
    },
    {
      "cell_type": "code",
      "source": [
        "from scipy.stats import f_oneway\n",
        "\n",
        "db_aux = db2[[\"phq_grp2\", \"INDFMINC\"]].dropna()\n",
        "\n",
        "stat, p = f_oneway(db_aux[(db_aux.phq_grp2 == 0)][\"INDFMINC\"],\n",
        "                   db_aux[(db_aux.phq_grp2 == 1)][\"INDFMINC\"],\n",
        "                   db_aux[(db_aux.phq_grp2 == 2)][\"INDFMINC\"])\n",
        "\n",
        "print('stat=%.3f, p=%.3f' % (stat, p))"
      ],
      "metadata": {
        "colab": {
          "base_uri": "https://localhost:8080/"
        },
        "id": "Q0VLkP0TvFFA",
        "outputId": "4390f5b1-4bee-438c-d6cc-735f6acec8d1"
      },
      "execution_count": 111,
      "outputs": [
        {
          "output_type": "stream",
          "name": "stdout",
          "text": [
            "stat=50.376, p=0.000\n"
          ]
        }
      ]
    },
    {
      "cell_type": "markdown",
      "source": [
        "Neste caso estamos testando a hipótese nula \"Não existe diferença entre os grupos de depressão com relação à renda média\". Como p < 0.05, temos que a probabilidade de observarmos o que estamos observando nesta amostra é baixa (próxima de zero) se a hipótese nula fosse verdadeira. Neste caso, temos indícios de que a hipótese nula não é verdadeira (rejeitamos a hipótese nula).\n",
        "\n",
        "Como o teste F apenas nos informa que existe pelo menos uma diferença entre os grupos de sintomas com relação a renda média, iremos realizar comparações multiplas para investigar quais diferenças são signiticativas:"
      ],
      "metadata": {
        "id": "pae5fl_XvLBu"
      }
    },
    {
      "cell_type": "code",
      "source": [
        "from statsmodels.stats.multicomp import pairwise_tukeyhsd\n",
        "\n",
        "tukey = pairwise_tukeyhsd(db_aux['INDFMINC'],\n",
        "                  db_aux['phq_grp2'],\n",
        "                  alpha = 0.05)\n",
        "\n",
        "print(tukey)"
      ],
      "metadata": {
        "colab": {
          "base_uri": "https://localhost:8080/"
        },
        "id": "uBmCaIlavJ2l",
        "outputId": "166d4f22-8d0c-420e-e689-7a915d4e4517"
      },
      "execution_count": 112,
      "outputs": [
        {
          "output_type": "stream",
          "name": "stdout",
          "text": [
            "     Multiple Comparison of Means - Tukey HSD, FWER=0.05      \n",
            "==============================================================\n",
            "group1 group2   meandiff  p-adj    lower       upper    reject\n",
            "--------------------------------------------------------------\n",
            "   0.0    1.0  -5537.0284 0.001  -8305.9614  -2768.0954   True\n",
            "   0.0    2.0 -13537.8408 0.001 -16971.2327 -10104.4489   True\n",
            "   1.0    2.0  -8000.8124 0.001 -12223.0265  -3778.5983   True\n",
            "--------------------------------------------------------------\n"
          ]
        }
      ]
    },
    {
      "cell_type": "markdown",
      "source": [
        "Com as comparações múltiplas, estamos realizando três testes de hipótese simultaneamente. Por conta disso, a função ajusta o valor-p para que o erro máximo desde conjunto de teste de hipóteses seja no máximo alpha = 0.05.\n",
        "\n",
        "Teste 1: Grupo 0 (Sem sintomas) x Grupo 1 (sintomas leves) -> p = 0.001\n",
        "\n",
        "Teste 2: Grupo 0 (Sem sintomas) x Grupo 2 (sintomas moderados-severos) -> p = 0.001\n",
        "\n",
        "Teste 3: Grupo 1 (sintomas leves) x Grupo 2 (sintomas moderados-severos) -> p = 0.001\n",
        "\n",
        "Neste caso, rejeitamos todas as hipóteses nulas. Sendo assim, temos indícios de que:\n",
        "\n",
        "A renda média do grupo Sem sintomas é diferente da renda média do grupo de sintomas leves\n",
        "A renda média do grupo Sem sintomas é diferente da renda média do grupo de sintomas moderados-severos\n",
        "A renda média do grupo sintomas leves é diferente da renda média do grupo sintomas moderados-severos"
      ],
      "metadata": {
        "id": "_FCjsKiHvRjG"
      }
    },
    {
      "cell_type": "code",
      "source": [
        "grafico_boxplot_grp(db2.replace(label_quali), \"PAG_HRW_log\", \"Log Atividade Física (h/semana)\")"
      ],
      "metadata": {
        "colab": {
          "base_uri": "https://localhost:8080/",
          "height": 292
        },
        "id": "y3ajbhv4vQu5",
        "outputId": "5476176e-54e3-4dee-e2f5-3b8ce6311847"
      },
      "execution_count": 113,
      "outputs": [
        {
          "output_type": "display_data",
          "data": {
            "text/plain": [
              "<Figure size 432x288 with 1 Axes>"
            ],
            "image/png": "[encoded data removed]"
          },
          "metadata": {
            "needs_background": "light"
          }
        }
      ]
    },
    {
      "cell_type": "code",
      "source": [
        "from scipy.stats import f_oneway\n",
        "\n",
        "db_aux = db2[[\"phq_grp2\", \"PAG_HRW_log\"]].dropna()\n",
        "\n",
        "stat, p = f_oneway(db_aux[(db_aux.phq_grp2 == 0)][\"PAG_HRW_log\"],\n",
        "                   db_aux[(db_aux.phq_grp2 == 1)][\"PAG_HRW_log\"],\n",
        "                   db_aux[(db_aux.phq_grp2 == 2)][\"PAG_HRW_log\"])\n",
        "\n",
        "print('stat=%.3f, p=%.3f' % (stat, p))"
      ],
      "metadata": {
        "colab": {
          "base_uri": "https://localhost:8080/"
        },
        "id": "88gy5jW6vWZI",
        "outputId": "d387aa59-8a2e-41a0-cb6b-faaa6c035b52"
      },
      "execution_count": 114,
      "outputs": [
        {
          "output_type": "stream",
          "name": "stdout",
          "text": [
            "stat=31.185, p=0.000\n"
          ]
        }
      ]
    },
    {
      "cell_type": "code",
      "source": [
        "from statsmodels.stats.multicomp import pairwise_tukeyhsd\n",
        "\n",
        "tukey = pairwise_tukeyhsd(db_aux['PAG_HRW_log'],\n",
        "                  db_aux['phq_grp2'],\n",
        "                  alpha = 0.05)\n",
        "\n",
        "print(tukey)"
      ],
      "metadata": {
        "colab": {
          "base_uri": "https://localhost:8080/"
        },
        "id": "0gcB8MO2vZHI",
        "outputId": "77368200-fdfb-4c2d-cddb-3802131344c4"
      },
      "execution_count": 115,
      "outputs": [
        {
          "output_type": "stream",
          "name": "stdout",
          "text": [
            "Multiple Comparison of Means - Tukey HSD, FWER=0.05 \n",
            "====================================================\n",
            "group1 group2 meandiff p-adj   lower   upper  reject\n",
            "----------------------------------------------------\n",
            "   0.0    1.0  -0.1483 0.0157 -0.2739 -0.0226   True\n",
            "   0.0    2.0  -0.5119  0.001 -0.6697 -0.3542   True\n",
            "   1.0    2.0  -0.3636  0.001 -0.5566 -0.1707   True\n",
            "----------------------------------------------------\n"
          ]
        }
      ]
    },
    {
      "cell_type": "code",
      "source": [
        "grafico_boxplot_grp(db2.replace(label_quali), \"HEI2015_TOTAL_SCORE\", \"HEI - Escore total\")"
      ],
      "metadata": {
        "colab": {
          "base_uri": "https://localhost:8080/",
          "height": 292
        },
        "id": "lHXY9ghKvcCP",
        "outputId": "be8c421e-5d17-4f7d-e38a-74572f4e7226"
      },
      "execution_count": 116,
      "outputs": [
        {
          "output_type": "display_data",
          "data": {
            "text/plain": [
              "<Figure size 432x288 with 1 Axes>"
            ],
            "image/png": "[encoded data removed]"
          },
          "metadata": {
            "needs_background": "light"
          }
        }
      ]
    },
    {
      "cell_type": "code",
      "source": [
        "from scipy.stats import f_oneway\n",
        "\n",
        "db_aux = db2[[\"phq_grp2\", \"HEI2015_TOTAL_SCORE\"]].dropna()\n",
        "\n",
        "stat, p = f_oneway(db_aux[(db_aux.phq_grp2 == 0)][\"HEI2015_TOTAL_SCORE\"],\n",
        "                   db_aux[(db_aux.phq_grp2 == 1)][\"HEI2015_TOTAL_SCORE\"],\n",
        "                   db_aux[(db_aux.phq_grp2 == 2)][\"HEI2015_TOTAL_SCORE\"])\n",
        "\n",
        "print('stat=%.3f, p=%.3f' % (stat, p))"
      ],
      "metadata": {
        "colab": {
          "base_uri": "https://localhost:8080/"
        },
        "id": "Sq3jeD7oveag",
        "outputId": "9fe1e440-c563-4ccd-d05a-95667b3b752f"
      },
      "execution_count": 117,
      "outputs": [
        {
          "output_type": "stream",
          "name": "stdout",
          "text": [
            "stat=7.119, p=0.001\n"
          ]
        }
      ]
    },
    {
      "cell_type": "code",
      "source": [
        "from statsmodels.stats.multicomp import pairwise_tukeyhsd\n",
        "\n",
        "tukey = pairwise_tukeyhsd(db_aux['HEI2015_TOTAL_SCORE'],\n",
        "                  db_aux['phq_grp2'],\n",
        "                  alpha = 0.05)\n",
        "\n",
        "print(tukey)"
      ],
      "metadata": {
        "colab": {
          "base_uri": "https://localhost:8080/"
        },
        "id": "AWq_fcbLvg_S",
        "outputId": "ad79ac11-86dd-4967-f1bc-4e98ef79060b"
      },
      "execution_count": 118,
      "outputs": [
        {
          "output_type": "stream",
          "name": "stdout",
          "text": [
            "Multiple Comparison of Means - Tukey HSD, FWER=0.05 \n",
            "====================================================\n",
            "group1 group2 meandiff p-adj   lower   upper  reject\n",
            "----------------------------------------------------\n",
            "   0.0    1.0  -1.1066 0.1546 -2.5111  0.2978  False\n",
            "   0.0    2.0  -2.5846 0.0017  -4.348 -0.8211   True\n",
            "   1.0    2.0  -1.4779 0.2437 -3.6364  0.6805  False\n",
            "----------------------------------------------------\n"
          ]
        }
      ]
    },
    {
      "cell_type": "markdown",
      "source": [
        "### B) Perfil de hábitos saudáveis"
      ],
      "metadata": {
        "id": "V9gjf22uvnh8"
      }
    },
    {
      "cell_type": "markdown",
      "source": [
        "Alimentação saudável x Exercícios Físicos"
      ],
      "metadata": {
        "id": "Cz-bNpN5vs3s"
      }
    },
    {
      "cell_type": "code",
      "source": [
        "sns.boxplot(y=\"ADHERENCE\", \n",
        "            x=\"HEI2015_TOTAL_SCORE\", \n",
        "            orient=\"h\",\n",
        "            data=db2.replace(label_quali))\n",
        "plt.show()\n",
        "\n",
        "fig, ax = plt.subplots(ncols=2, figsize=(15,5))\n",
        "\n",
        "sns.regplot(x = 'HEI2015_TOTAL_SCORE', \n",
        "            y = 'PAG_HRW', \n",
        "            lowess=True, \n",
        "            line_kws={'color': 'red'},\n",
        "            data = db2,\n",
        "            ax = ax[0])\n",
        "\n",
        "sns.regplot(x = 'HEI2015_TOTAL_SCORE', \n",
        "            y = 'PAG_HRW_log', \n",
        "            lowess=True, \n",
        "            line_kws={'color': 'red'},\n",
        "            data = db2,\n",
        "            ax = ax[1])\n",
        "plt.show()"
      ],
      "metadata": {
        "colab": {
          "base_uri": "https://localhost:8080/",
          "height": 598
        },
        "id": "XHkoP-g4vutt",
        "outputId": "662e8976-51f0-43eb-d28c-ad183fbc317b"
      },
      "execution_count": 119,
      "outputs": [
        {
          "output_type": "display_data",
          "data": {
            "text/plain": [
              "<Figure size 432x288 with 1 Axes>"
            ],
            "image/png": "[encoded data removed]"
          },
          "metadata": {
            "needs_background": "light"
          }
        },
        {
          "output_type": "display_data",
          "data": {
            "text/plain": [
              "<Figure size 1080x360 with 2 Axes>"
            ],
            "image/png": "[encoded data removed]"
          },
          "metadata": {
            "needs_background": "light"
          }
        }
      ]
    },
    {
      "cell_type": "code",
      "source": [
        "from scipy.stats import f_oneway\n",
        "\n",
        "db_aux = db2[[\"ADHERENCE\", \"HEI2015_TOTAL_SCORE\"]].dropna()\n",
        "\n",
        "stat, p = f_oneway(db_aux[(db_aux.ADHERENCE == 1)][\"HEI2015_TOTAL_SCORE\"],\n",
        "                   db_aux[(db_aux.ADHERENCE == 2)][\"HEI2015_TOTAL_SCORE\"],\n",
        "                   db_aux[(db_aux.ADHERENCE == 3)][\"HEI2015_TOTAL_SCORE\"])\n",
        "\n",
        "print('stat=%.3f, p=%.3f' % (stat, p))"
      ],
      "metadata": {
        "colab": {
          "base_uri": "https://localhost:8080/"
        },
        "id": "d3cWmlqWwA0d",
        "outputId": "0846a2de-927e-4cd2-803c-cc8b4a5d6275"
      },
      "execution_count": 120,
      "outputs": [
        {
          "output_type": "stream",
          "name": "stdout",
          "text": [
            "stat=4.122, p=0.016\n"
          ]
        }
      ]
    },
    {
      "cell_type": "code",
      "source": [
        "from statsmodels.stats.multicomp import pairwise_tukeyhsd\n",
        "\n",
        "tukey = pairwise_tukeyhsd(db_aux['HEI2015_TOTAL_SCORE'],\n",
        "                  db_aux['ADHERENCE'],\n",
        "                  alpha = 0.05)\n",
        "\n",
        "print(tukey)"
      ],
      "metadata": {
        "colab": {
          "base_uri": "https://localhost:8080/"
        },
        "id": "nPmDCT-kwDc3",
        "outputId": "7e341454-5528-41f2-cf5b-3c2eec61d295"
      },
      "execution_count": 121,
      "outputs": [
        {
          "output_type": "stream",
          "name": "stdout",
          "text": [
            "Multiple Comparison of Means - Tukey HSD, FWER=0.05\n",
            "===================================================\n",
            "group1 group2 meandiff p-adj   lower  upper  reject\n",
            "---------------------------------------------------\n",
            "   1.0    2.0   0.3937 0.7031  -0.805 1.5924  False\n",
            "   1.0    3.0   1.0773  0.012  0.1931 1.9616   True\n",
            "   2.0    3.0   0.6837  0.378 -0.5186 1.8859  False\n",
            "---------------------------------------------------\n"
          ]
        }
      ]
    },
    {
      "cell_type": "markdown",
      "source": [
        "Hábitos saudáveis x Gênero"
      ],
      "metadata": {
        "id": "RuVVJAnWwF--"
      }
    },
    {
      "cell_type": "code",
      "source": [
        "plt.figure(figsize=(7,5))\n",
        "sns.boxplot(x=\"RIAGENDR\", \n",
        "            y=\"HEI2015_TOTAL_SCORE\", \n",
        "            data=db2.replace(label_quali))\n",
        "plt.show()\n",
        "\n",
        "fig, ax = plt.subplots(ncols=2, figsize=(15,5))\n",
        "sns.boxplot(x=\"RIAGENDR\", \n",
        "            y=\"PAG_HRW\", \n",
        "            data=db2.replace(label_quali),\n",
        "            ax = ax[0])\n",
        "\n",
        "sns.boxplot(x=\"RIAGENDR\", \n",
        "            y=\"PAG_HRW_log\", \n",
        "            data=db2.replace(label_quali),\n",
        "            ax = ax[1])\n",
        "plt.show()"
      ],
      "metadata": {
        "colab": {
          "base_uri": "https://localhost:8080/",
          "height": 651
        },
        "id": "-eD3Sj58wJVe",
        "outputId": "424d8c45-631b-4222-b0f7-71f0dbf9da67"
      },
      "execution_count": 122,
      "outputs": [
        {
          "output_type": "display_data",
          "data": {
            "text/plain": [
              "<Figure size 504x360 with 1 Axes>"
            ],
            "image/png": "[encoded data removed]"
          },
          "metadata": {
            "needs_background": "light"
          }
        },
        {
          "output_type": "display_data",
          "data": {
            "text/plain": [
              "<Figure size 1080x360 with 2 Axes>"
            ],
            "image/png": "[encoded data removed]"
          },
          "metadata": {
            "needs_background": "light"
          }
        }
      ]
    },
    {
      "cell_type": "code",
      "source": [
        "from scipy.stats import f_oneway\n",
        "\n",
        "db_aux = db2[[\"RIAGENDR\", \"PAG_HRW\", \"PAG_HRW_log\", \"HEI2015_TOTAL_SCORE\"]].dropna()\n",
        "\n",
        "stat, p = f_oneway(db_aux[(db_aux.RIAGENDR == 1)][\"HEI2015_TOTAL_SCORE\"],\n",
        "                   db_aux[(db_aux.RIAGENDR == 2)][\"HEI2015_TOTAL_SCORE\"])\n",
        "\n",
        "print('stat=%.3f, p=%.3f' % (stat, p))"
      ],
      "metadata": {
        "colab": {
          "base_uri": "https://localhost:8080/"
        },
        "id": "eiQbtnfmwMQ2",
        "outputId": "1a8f38d7-6cd6-4db7-b265-5f1bb180a619"
      },
      "execution_count": 123,
      "outputs": [
        {
          "output_type": "stream",
          "name": "stdout",
          "text": [
            "stat=27.216, p=0.000\n"
          ]
        }
      ]
    },
    {
      "cell_type": "code",
      "source": [
        "from scipy.stats import f_oneway\n",
        "\n",
        "db_aux = db2[[\"RIAGENDR\", \"PAG_HRW\", \"PAG_HRW_log\", \"HEI2015_TOTAL_SCORE\"]].dropna()\n",
        "\n",
        "stat, p = f_oneway(db_aux[(db_aux.RIAGENDR == 1)][\"PAG_HRW_log\"],\n",
        "                   db_aux[(db_aux.RIAGENDR == 2)][\"PAG_HRW_log\"])\n",
        "\n",
        "print('stat=%.3f, p=%.3f' % (stat, p))"
      ],
      "metadata": {
        "colab": {
          "base_uri": "https://localhost:8080/"
        },
        "id": "l299Z1o7wOnZ",
        "outputId": "5125f7ab-7236-436c-f2e2-c9084fce6ed6"
      },
      "execution_count": 124,
      "outputs": [
        {
          "output_type": "stream",
          "name": "stdout",
          "text": [
            "stat=50.329, p=0.000\n"
          ]
        }
      ]
    },
    {
      "cell_type": "markdown",
      "source": [
        "Hábitos saudáveis e Raça"
      ],
      "metadata": {
        "id": "nWiuSKsUwQ7C"
      }
    },
    {
      "cell_type": "code",
      "source": [
        "plt.figure(figsize=(7,5))\n",
        "sns.boxplot(x=\"RIDRETH1\", \n",
        "            y=\"HEI2015_TOTAL_SCORE\", \n",
        "            data=db2.replace(label_quali))\n",
        "plt.show()\n",
        "\n",
        "fig, ax = plt.subplots(ncols=2, figsize=(15,5))\n",
        "sns.boxplot(x=\"RIDRETH1\", \n",
        "            y=\"PAG_HRW\", \n",
        "            data=db2.replace(label_quali),\n",
        "            ax = ax[0])\n",
        "\n",
        "sns.boxplot(x=\"RIDRETH1\", \n",
        "            y=\"PAG_HRW_log\", \n",
        "            data=db2.replace(label_quali),\n",
        "            ax = ax[1])\n",
        "plt.show()"
      ],
      "metadata": {
        "colab": {
          "base_uri": "https://localhost:8080/",
          "height": 675
        },
        "id": "GfjMOvpxwTBZ",
        "outputId": "a11f316d-1f70-41e1-d9b4-6b143dc59eb8"
      },
      "execution_count": 125,
      "outputs": [
        {
          "output_type": "display_data",
          "data": {
            "text/plain": [
              "<Figure size 504x360 with 1 Axes>"
            ],
            "image/png": "[encoded data removed]"
          },
          "metadata": {
            "needs_background": "light"
          }
        },
        {
          "output_type": "display_data",
          "data": {
            "text/plain": [
              "<Figure size 1080x360 with 2 Axes>"
            ],
            "image/png": "[encoded data removed]"
          },
          "metadata": {
            "needs_background": "light"
          }
        }
      ]
    },
    {
      "cell_type": "code",
      "source": [
        "from scipy.stats import f_oneway\n",
        "\n",
        "db_aux = db2[[\"RIDRETH1\", \"PAG_HRW\", \"PAG_HRW_log\", \"HEI2015_TOTAL_SCORE\"]].dropna()\n",
        "\n",
        "stat, p = f_oneway(db_aux[(db_aux.RIDRETH1 == 1)][\"HEI2015_TOTAL_SCORE\"],\n",
        "                   db_aux[(db_aux.RIDRETH1 == 2)][\"HEI2015_TOTAL_SCORE\"],\n",
        "                   db_aux[(db_aux.RIDRETH1 == 3)][\"HEI2015_TOTAL_SCORE\"],\n",
        "                   db_aux[(db_aux.RIDRETH1 == 4)][\"HEI2015_TOTAL_SCORE\"])\n",
        "\n",
        "print('stat=%.3f, p=%.3f' % (stat, p))"
      ],
      "metadata": {
        "colab": {
          "base_uri": "https://localhost:8080/"
        },
        "id": "nUKYmarnwXSK",
        "outputId": "ff9268b9-e6e4-446f-956b-2873b0b8a933"
      },
      "execution_count": 126,
      "outputs": [
        {
          "output_type": "stream",
          "name": "stdout",
          "text": [
            "stat=11.860, p=0.000\n"
          ]
        }
      ]
    },
    {
      "cell_type": "code",
      "source": [
        "from statsmodels.stats.multicomp import pairwise_tukeyhsd\n",
        "\n",
        "tukey = pairwise_tukeyhsd(db_aux['HEI2015_TOTAL_SCORE'],\n",
        "                  db_aux['RIDRETH1'],\n",
        "                  alpha = 0.05)\n",
        "\n",
        "print(tukey)"
      ],
      "metadata": {
        "colab": {
          "base_uri": "https://localhost:8080/"
        },
        "id": "RLmu-R4nwZ7T",
        "outputId": "b40ec207-8cea-45a4-b3c5-a053246a77f6"
      },
      "execution_count": 127,
      "outputs": [
        {
          "output_type": "stream",
          "name": "stdout",
          "text": [
            "Multiple Comparison of Means - Tukey HSD, FWER=0.05 \n",
            "====================================================\n",
            "group1 group2 meandiff p-adj   lower   upper  reject\n",
            "----------------------------------------------------\n",
            "     1      2   -0.964  0.556 -2.8709   0.943  False\n",
            "     1      3  -1.0955 0.0718 -2.2542  0.0632  False\n",
            "     1      4  -2.9767  0.001 -4.2992 -1.6541   True\n",
            "     2      3  -0.1315    0.9 -1.8988  1.6357  False\n",
            "     2      4  -2.0127 0.0302 -3.8914  -0.134   True\n",
            "     3      4  -1.8812  0.001 -2.9928 -0.7696   True\n",
            "----------------------------------------------------\n"
          ]
        }
      ]
    },
    {
      "cell_type": "code",
      "source": [
        "from scipy.stats import f_oneway\n",
        "\n",
        "stat, p = f_oneway(db_aux[(db_aux.RIDRETH1 == 1)][\"PAG_HRW_log\"],\n",
        "                   db_aux[(db_aux.RIDRETH1 == 2)][\"PAG_HRW_log\"],\n",
        "                   db_aux[(db_aux.RIDRETH1 == 3)][\"PAG_HRW_log\"],\n",
        "                   db_aux[(db_aux.RIDRETH1 == 4)][\"PAG_HRW_log\"])\n",
        "\n",
        "print('stat=%.3f, p=%.3f' % (stat, p))"
      ],
      "metadata": {
        "colab": {
          "base_uri": "https://localhost:8080/"
        },
        "id": "SYUBbAR0wciI",
        "outputId": "260af416-bd76-44d9-ced7-0e366143b026"
      },
      "execution_count": 128,
      "outputs": [
        {
          "output_type": "stream",
          "name": "stdout",
          "text": [
            "stat=25.845, p=0.000\n"
          ]
        }
      ]
    },
    {
      "cell_type": "code",
      "source": [
        "from statsmodels.stats.multicomp import pairwise_tukeyhsd\n",
        "\n",
        "tukey = pairwise_tukeyhsd(db_aux['PAG_HRW_log'],\n",
        "                  db_aux['RIDRETH1'],\n",
        "                  alpha = 0.05)\n",
        "\n",
        "print(tukey)"
      ],
      "metadata": {
        "colab": {
          "base_uri": "https://localhost:8080/"
        },
        "id": "ZU3xoV7qwerB",
        "outputId": "538e1a01-5e0d-4922-d4a4-90af11efb5aa"
      },
      "execution_count": 130,
      "outputs": [
        {
          "output_type": "stream",
          "name": "stdout",
          "text": [
            "Multiple Comparison of Means - Tukey HSD, FWER=0.05 \n",
            "====================================================\n",
            "group1 group2 meandiff p-adj   lower   upper  reject\n",
            "----------------------------------------------------\n",
            "     1      2   0.3757  0.001  0.2016  0.5499   True\n",
            "     1      3   0.3502  0.001  0.2444   0.456   True\n",
            "     1      4    0.229  0.001  0.1082  0.3498   True\n",
            "     2      3  -0.0255    0.9 -0.1869  0.1359  False\n",
            "     2      4  -0.1467 0.1241 -0.3183  0.0248  False\n",
            "     3      4  -0.1212 0.0116 -0.2227 -0.0197   True\n",
            "----------------------------------------------------\n"
          ]
        }
      ]
    },
    {
      "cell_type": "markdown",
      "source": [
        "fim"
      ],
      "metadata": {
        "id": "HZ9mXgASwkw2"
      }
    }
  ]
}